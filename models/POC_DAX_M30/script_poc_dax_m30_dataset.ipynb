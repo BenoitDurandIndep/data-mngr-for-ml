{
 "cells": [
  {
   "cell_type": "markdown",
   "metadata": {},
   "source": [
    "POC DAX M30 : POC to test different scores with DAX30 data using both 30 min timeframe and 1 day timeframe.\n",
    "This notebook is the first part : merge dataset, calculate features"
   ]
  },
  {
   "cell_type": "code",
   "execution_count": null,
   "metadata": {},
   "outputs": [],
   "source": [
    "from importlib import reload\n",
    "import pandas as pd\n",
    "import numpy as np\n",
    "from datetime import timedelta,datetime\n",
    "import ta\n",
    "import time\n",
    "from pathlib import Path\n",
    "import matplotlib.pyplot as plt\n"
   ]
  },
  {
   "cell_type": "code",
   "execution_count": null,
   "metadata": {},
   "outputs": [],
   "source": [
    "PATH_DATA = \"../../../Data/\"\n",
    "PATH_DATA_Quant = \"../../../Data/dl_quant/\"\n",
    "PATH_DATA_Yahoo = \"../../../Data/dl_yahoo/\""
   ]
  },
  {
   "cell_type": "code",
   "execution_count": null,
   "metadata": {},
   "outputs": [],
   "source": [
    "df_dax_m30=pd.read_csv(PATH_DATA_Quant+\"DEUIDXEUR-M30-full.csv\",sep=\",\",parse_dates=True)\n",
    "df_dax_m30.head()"
   ]
  },
  {
   "cell_type": "code",
   "execution_count": null,
   "metadata": {},
   "outputs": [],
   "source": [
    "df_dax_m30[\"Date\"]=df_dax_m30[\"Date\"].apply(str)\n",
    "df_dax_m30[\"Time\"]=df_dax_m30[\"Time\"].apply(str)\n",
    "df_dax_m30.info()"
   ]
  },
  {
   "cell_type": "code",
   "execution_count": null,
   "metadata": {},
   "outputs": [],
   "source": [
    "df_dax_m30[\"datetime_str\"]=df_dax_m30[\"Date\"]+\" \"+df_dax_m30[\"Time\"]\n",
    "df_dax_m30[\"Datetime\"]=pd.to_datetime(df_dax_m30[\"datetime_str\"],format=\"%Y%m%d %X\")\n",
    "df_dax_m30.head()"
   ]
  },
  {
   "cell_type": "code",
   "execution_count": null,
   "metadata": {},
   "outputs": [],
   "source": [
    "df_dax_m30.set_index(\"Datetime\",inplace=True)\n",
    "df_dax_m30.head()"
   ]
  },
  {
   "cell_type": "code",
   "execution_count": null,
   "metadata": {},
   "outputs": [],
   "source": [
    "df_dax_m30.drop(\"datetime_str\",axis=1,inplace=True)\n",
    "df_dax_m30.head()"
   ]
  },
  {
   "cell_type": "code",
   "execution_count": null,
   "metadata": {},
   "outputs": [],
   "source": [
    "df_dax_hist=pd.read_csv(PATH_DATA+\"dl_yahoo/yf_dax_1d.csv\",sep=\",\",index_col=\"Date\",parse_dates=True)\n",
    "df_dax_hist.head()"
   ]
  },
  {
   "cell_type": "code",
   "execution_count": null,
   "metadata": {},
   "outputs": [],
   "source": [
    "df_dax_m30[\"Date\"]=pd.to_datetime(df_dax_m30[\"Date\"],format=\"%Y%m%d\")\n",
    "df_dax_m30.head()"
   ]
  },
  {
   "cell_type": "code",
   "execution_count": null,
   "metadata": {},
   "outputs": [],
   "source": [
    "df_dax_m30_d1=df_dax_m30.join(df_dax_hist, on=\"Date\",how=\"left\",rsuffix=\"_d1\")\n",
    "df_dax_m30_d1.head()"
   ]
  },
  {
   "cell_type": "code",
   "execution_count": null,
   "metadata": {},
   "outputs": [],
   "source": [
    "df_dax_m30_d1.plot(y=[\"Close\",\"Close_d1\"])"
   ]
  },
  {
   "cell_type": "code",
   "execution_count": null,
   "metadata": {},
   "outputs": [],
   "source": [
    "df_dax_m30_d1.to_csv(PATH_DATA_Quant+\"DAX_M30_QDM_D1_YF_base.zip\", sep=\",\")"
   ]
  },
  {
   "cell_type": "code",
   "execution_count": null,
   "metadata": {},
   "outputs": [],
   "source": [
    "df_dax_m30_d1_2=pd.read_csv(PATH_DATA_Quant+\"DAX_M30_QDM_D1_YF_base.zip\",sep=\",\",index_col=\"Datetime\",parse_dates=True)\n",
    "df_dax_m30_d1_2.head()"
   ]
  },
  {
   "cell_type": "code",
   "execution_count": null,
   "metadata": {},
   "outputs": [],
   "source": [
    "df_dax_m30_d1.to_hdf(PATH_DATA_Quant+\"DAX_M30_QDM_D1_YF_base.hdf\",key=\"Datetime\")"
   ]
  },
  {
   "cell_type": "code",
   "execution_count": null,
   "metadata": {},
   "outputs": [],
   "source": [
    "df_dax_m30_d1.drop([\"Dividends\",\"Stock Splits\"],axis=1,inplace=True,errors=\"ignore\")\n",
    "df_dax_m30_d1.head()"
   ]
  },
  {
   "cell_type": "code",
   "execution_count": null,
   "metadata": {},
   "outputs": [],
   "source": [
    "df_dax_m30_d1.to_csv(PATH_DATA_Quant+\"DAX_M30_QDM_D1_YF_base.zip\", sep=\",\")\n"
   ]
  },
  {
   "cell_type": "code",
   "execution_count": null,
   "metadata": {},
   "outputs": [],
   "source": [
    "df_dax_m30_d1 = pd.read_csv(PATH_DATA_Quant+\"DAX_M30_QDM_D1_YF_base.zip\",sep=\",\",index_col=\"Datetime\",parse_dates=True)\n",
    "df_dax_m30_d1.head()"
   ]
  },
  {
   "cell_type": "code",
   "execution_count": null,
   "metadata": {},
   "outputs": [],
   "source": [
    "df_dax_m30_d1['m30_lowest_20']=df_dax_m30_d1['Low'].rolling(20).min().shift(1)\n",
    "df_dax_m30_d1.head(30)"
   ]
  },
  {
   "cell_type": "code",
   "execution_count": null,
   "metadata": {},
   "outputs": [],
   "source": [
    "df_dax_m30_d1[100:200].plot(y=['Low','m30_lowest_20'])"
   ]
  },
  {
   "cell_type": "code",
   "execution_count": null,
   "metadata": {},
   "outputs": [],
   "source": [
    "df_dax_m30_d1['m30_atr14'] = ta.volatility.AverageTrueRange(\n",
    "    high=df_dax_m30_d1['High'], low=df_dax_m30_d1['Low'], close=df_dax_m30_d1['Close'], window=14,fillna=False).average_true_range()\n",
    "df_dax_m30_d1['m30_atr14'] =df_dax_m30_d1['m30_atr14'].shift(1) \n",
    "df_dax_m30_d1.head(20)\n"
   ]
  },
  {
   "cell_type": "code",
   "execution_count": null,
   "metadata": {},
   "outputs": [],
   "source": [
    "df_dax_m30_d1.index=df_dax_m30_d1.index-pd.DateOffset(hours=1)\n",
    "df_dax_m30_d1.head()"
   ]
  },
  {
   "cell_type": "code",
   "execution_count": null,
   "metadata": {},
   "outputs": [],
   "source": [
    "df_dax_m30_d1['Time']=df_dax_m30_d1.index.strftime('%X')\n",
    "df_dax_m30_d1.head()"
   ]
  },
  {
   "cell_type": "code",
   "execution_count": null,
   "metadata": {},
   "outputs": [],
   "source": [
    "df_dax_m30_d1['m30_sup_open_jour']=df_dax_m30_d1['Close'].shift(1)>=df_dax_m30_d1['Open_d1']\n",
    "df_dax_m30_d1.head()"
   ]
  },
  {
   "cell_type": "code",
   "execution_count": null,
   "metadata": {},
   "outputs": [],
   "source": [
    "df_dax_m30_d1['m30_return']=ta.others.daily_return(close=df_dax_m30_d1['Close'],fillna=True)\n",
    "df_dax_m30_d1.loc[df_dax_m30_d1.index[0],('m30_return')]=0\n",
    "df_dax_m30_d1['m30_return']=df_dax_m30_d1['m30_return'].shift(1)\n",
    "df_dax_m30_d1[['Close','m30_return']].head()"
   ]
  },
  {
   "cell_type": "code",
   "execution_count": null,
   "metadata": {},
   "outputs": [],
   "source": [
    "df_dax_m30_d1 = df_dax_m30_d1.round(5)\n",
    "df_dax_m30_d1[['Close', 'm30_return', 'Close_d1']].head()\n"
   ]
  },
  {
   "cell_type": "code",
   "execution_count": null,
   "metadata": {},
   "outputs": [],
   "source": [
    "df_dax_m30_d1.round(5).to_csv(PATH_DATA_Quant+\"DAX_M30_QDM_D1_YF_TA.zip\", sep=\",\")"
   ]
  },
  {
   "cell_type": "code",
   "execution_count": null,
   "metadata": {},
   "outputs": [],
   "source": [
    "df_dax_m30_d1 = pd.read_csv(PATH_DATA_Quant+\"DAX_M30_QDM_D1_YF_TA.zip\",sep=\",\",index_col=\"Datetime\",parse_dates=True)\n",
    "df_dax_m30_d1.head()"
   ]
  },
  {
   "cell_type": "code",
   "execution_count": null,
   "metadata": {},
   "outputs": [],
   "source": [
    "df_dax_without_d1=df_dax_m30_d1[df_dax_m30_d1['Close_d1'].isnull()]\n",
    "print(df_dax_without_d1['Date'].unique())\n",
    "print(df_dax_without_d1.head())"
   ]
  },
  {
   "cell_type": "code",
   "execution_count": null,
   "metadata": {},
   "outputs": [],
   "source": [
    "df_resample_tmp=df_dax_m30_d1['Close'].resample(rule='D').last()\n",
    "df_dax_resamp_full=pd.DataFrame()\n",
    "df_dax_resamp_full['Close']=df_resample_tmp\n",
    "\n",
    "df_dax_resamp_full.head(20)"
   ]
  },
  {
   "cell_type": "code",
   "execution_count": null,
   "metadata": {},
   "outputs": [],
   "source": [
    "df_dax_resamp_full['Open']=df_dax_m30_d1['Open'].resample(rule='D').first()\n",
    "df_dax_resamp_full['High']=df_dax_m30_d1['High'].resample(rule='D').max()\n",
    "df_dax_resamp_full['Low']=df_dax_m30_d1['Low'].resample(rule='D').min()\n",
    "\n",
    "df_dax_resamp_full.head(20)"
   ]
  },
  {
   "cell_type": "code",
   "execution_count": null,
   "metadata": {},
   "outputs": [],
   "source": [
    "df_dax_resamp_full.dropna(inplace=True)\n",
    "df_dax_resamp_full.index.names=['Date']\n",
    "df_dax_resamp_full.info()"
   ]
  },
  {
   "cell_type": "code",
   "execution_count": null,
   "metadata": {},
   "outputs": [],
   "source": [
    "df_dax_without_d1=df_dax_m30_d1[df_dax_m30_d1['Close_d1'].isnull()]\n",
    "df_dax_without_d1.info()\n"
   ]
  },
  {
   "cell_type": "code",
   "execution_count": null,
   "metadata": {},
   "outputs": [],
   "source": [
    "df_dax_m30_d1.dropna(axis=0,subset=['Close_d1'],inplace=True)\n",
    "df_dax_m30_d1.info()\n"
   ]
  },
  {
   "cell_type": "code",
   "execution_count": null,
   "metadata": {},
   "outputs": [],
   "source": [
    "df_dax_m30_d1['m30_rsi14']=ta.momentum.RSIIndicator(df_dax_m30_d1['Close'],window=14).rsi()\n",
    "df_dax_m30_d1['m30_rsi14']=df_dax_m30_d1['m30_rsi14'].shift(1)\n",
    "df_dax_m30_d1[['Close', 'm30_rsi14']].head(20)"
   ]
  },
  {
   "cell_type": "code",
   "execution_count": null,
   "metadata": {},
   "outputs": [],
   "source": [
    "df_dax_m30_d1['m30_BB_hband']=ta.volatility.bollinger_hband(df_dax_m30_d1['Close'].shift(1))\n",
    "df_dax_m30_d1['m30_BB_lband']=ta.volatility.bollinger_lband(df_dax_m30_d1['Close'].shift(1))\n",
    "df_dax_m30_d1[100:110].head(10)"
   ]
  },
  {
   "cell_type": "code",
   "execution_count": null,
   "metadata": {},
   "outputs": [],
   "source": [
    "df_dax_m30_d1['m30_sma20']=ta.trend.SMAIndicator(close=df_dax_m30_d1['Close'].shift(1),window=20).sma_indicator()\n",
    "df_dax_m30_d1[['Close','m30_sma20']].head(30)"
   ]
  },
  {
   "cell_type": "code",
   "execution_count": null,
   "metadata": {},
   "outputs": [],
   "source": [
    "df_dax_m30_d1['m30_lowest_50']=df_dax_m30_d1['Low'].rolling(50).min().shift(1)\n",
    "df_dax_m30_d1['m30_highest_20']=df_dax_m30_d1['High'].rolling(20).min().shift(1)"
   ]
  },
  {
   "cell_type": "code",
   "execution_count": null,
   "metadata": {},
   "outputs": [],
   "source": [
    "df_dax_m30_d1.round(5).to_csv(PATH_DATA_Quant+\"DAX_M30_QDM_D1_YF_TA.zip\", sep=\",\")"
   ]
  },
  {
   "cell_type": "code",
   "execution_count": null,
   "metadata": {},
   "outputs": [],
   "source": [
    "df_dax_m30_d1['d1_sma20']=ta.trend.SMAIndicator(close=df_dax_m30_d1['Close_d1'].shift(1),window=20).sma_indicator()\n",
    "df_dax_m30_d1['d1_sma50']=ta.trend.SMAIndicator(close=df_dax_m30_d1['Close_d1'].shift(1),window=50).sma_indicator()\n",
    "df_dax_m30_d1['d1_sma200']=ta.trend.SMAIndicator(close=df_dax_m30_d1['Close_d1'].shift(1),window=200).sma_indicator()"
   ]
  },
  {
   "cell_type": "code",
   "execution_count": null,
   "metadata": {},
   "outputs": [],
   "source": [
    "df_dax_m30_d1['d1_rsi14']=ta.momentum.RSIIndicator(df_dax_m30_d1['Close_d1'].shift(1),window=14).rsi()"
   ]
  },
  {
   "cell_type": "code",
   "execution_count": null,
   "metadata": {},
   "outputs": [],
   "source": [
    "df_dax_m30_d1['d1_BB_hband']=ta.volatility.bollinger_hband(df_dax_m30_d1['Close_d1'].shift(1))\n",
    "df_dax_m30_d1['d1_BB_lband']=ta.volatility.bollinger_lband(df_dax_m30_d1['Close_d1'].shift(1))\n",
    "df_dax_m30_d1['d1_return']=ta.others.daily_return(close=df_dax_m30_d1['Close_d1'].shift(1))"
   ]
  },
  {
   "cell_type": "code",
   "execution_count": null,
   "metadata": {},
   "outputs": [],
   "source": [
    "df_dax_m30_d1['d1_sma20_volume']=ta.trend.SMAIndicator(close=df_dax_m30_d1['Volume_d1'].shift(1),window=20).sma_indicator()"
   ]
  },
  {
   "cell_type": "code",
   "execution_count": null,
   "metadata": {},
   "outputs": [],
   "source": [
    "df_dax_m30_d1['d1_BB_wband']=ta.volatility.bollinger_wband(df_dax_m30_d1['Close_d1'].shift(1))\n",
    "df_dax_m30_d1['d1_sma20_wband']=ta.trend.SMAIndicator(close=df_dax_m30_d1['d1_BB_wband'],window=20).sma_indicator()"
   ]
  },
  {
   "cell_type": "code",
   "execution_count": null,
   "metadata": {},
   "outputs": [],
   "source": [
    "df_dax_m30_d1['d1_highest_20']=df_dax_m30_d1['High'].rolling(20).min().shift(1)"
   ]
  },
  {
   "cell_type": "code",
   "execution_count": null,
   "metadata": {},
   "outputs": [],
   "source": [
    "df_dax_m30_d1.drop(['d1_sma20','d1_sma50','d1_sma200','d1_rsi14','d1_BB_hband','d1_BB_lband','d1_return','d1_sma20_volume','d1_BB_wband','d1_sma20_wband','d1_highest_20'],axis=1,inplace=True,errors=\"ignore\")"
   ]
  },
  {
   "cell_type": "code",
   "execution_count": null,
   "metadata": {},
   "outputs": [],
   "source": [
    "df_dax_d1=df_dax_m30_d1.groupby('Date')['Close_d1','Volume_d1'].first()\n",
    "df_dax_d1=pd.DataFrame(df_dax_d1)\n",
    "df_dax_d1.head()"
   ]
  },
  {
   "cell_type": "code",
   "execution_count": null,
   "metadata": {},
   "outputs": [],
   "source": [
    "df_dax_d1['d1_sma20']=ta.trend.SMAIndicator(close=df_dax_d1['Close_d1'].shift(1),window=20).sma_indicator()\n",
    "df_dax_d1['d1_sma50']=ta.trend.SMAIndicator(close=df_dax_d1['Close_d1'].shift(1),window=50).sma_indicator()\n",
    "df_dax_d1['d1_sma200']=ta.trend.SMAIndicator(close=df_dax_d1['Close_d1'].shift(1),window=200).sma_indicator()\n",
    "df_dax_d1['d1_rsi14']=ta.momentum.RSIIndicator(df_dax_d1['Close_d1'].shift(1),window=14).rsi()\n",
    "df_dax_d1['d1_BB_hband']=ta.volatility.bollinger_hband(df_dax_d1['Close_d1'].shift(1))\n",
    "df_dax_d1['d1_BB_lband']=ta.volatility.bollinger_lband(df_dax_d1['Close_d1'].shift(1))\n",
    "df_dax_d1['d1_return']=ta.others.daily_return(close=df_dax_d1['Close_d1'].shift(1))\n",
    "df_dax_d1['d1_sma20_volume']=ta.trend.SMAIndicator(close=df_dax_d1['Volume_d1'].shift(1),window=20).sma_indicator()\n",
    "df_dax_d1['d1_BB_wband']=ta.volatility.bollinger_wband(df_dax_d1['Close_d1'].shift(1))\n",
    "df_dax_d1['d1_sma20_wband']=ta.trend.SMAIndicator(close=df_dax_d1['d1_BB_wband'],window=20).sma_indicator()\n",
    "df_dax_d1['d1_highest_20']=df_dax_d1['Close_d1'].rolling(20).min().shift(1)\n",
    "df_dax_d1.head()"
   ]
  },
  {
   "cell_type": "code",
   "execution_count": null,
   "metadata": {},
   "outputs": [],
   "source": [
    "df_dax_m30_d1=df_dax_m30_d1.merge(df_dax_d1,on='Date',how='left')"
   ]
  },
  {
   "cell_type": "code",
   "execution_count": null,
   "metadata": {},
   "outputs": [],
   "source": [
    "df_dax_m30_d1[\"Datetime\"]=pd.to_datetime(df_dax_m30_d1[\"Date\"]+\" \"+df_dax_m30_d1[\"Time\"],format=\"%Y-%m-%d %X\")\n",
    "df_dax_m30_d1.set_index(\"Datetime\",inplace=True)\n",
    "df_dax_m30_d1.head()"
   ]
  },
  {
   "cell_type": "code",
   "execution_count": null,
   "metadata": {},
   "outputs": [],
   "source": [
    "df_dax_m30_d1[10000:12000].plot(y=['Close','d1_sma50','d1_sma200','d1_BB_hband','d1_BB_lband'],)"
   ]
  },
  {
   "cell_type": "code",
   "execution_count": null,
   "metadata": {},
   "outputs": [],
   "source": [
    "df_dax_m30_d1.round(5).to_csv(\n",
    "    PATH_DATA_Quant+\"DAX_M30_QDM_D1_YF_TA.zip\", sep=\",\")\n"
   ]
  },
  {
   "cell_type": "code",
   "execution_count": null,
   "metadata": {},
   "outputs": [],
   "source": [
    "df_dax_m30_d1['m30_market_open']=(df_dax_m30_d1['Time'].shift(1)>=\"09:00:00\") & (df_dax_m30_d1['Time'].shift(1)<=\"17:30:00\")"
   ]
  },
  {
   "cell_type": "code",
   "execution_count": null,
   "metadata": {},
   "outputs": [],
   "source": [
    "df_dax_m30_d1['m30_pos_sma20']=(df_dax_m30_d1['Close'].shift(1)-df_dax_m30_d1['m30_sma20'])/df_dax_m30_d1['m30_sma20']"
   ]
  },
  {
   "cell_type": "code",
   "execution_count": null,
   "metadata": {},
   "outputs": [],
   "source": [
    "df_dax_m30_d1['m30_pos_hband']=(df_dax_m30_d1['Close'].shift(1)-df_dax_m30_d1['m30_BB_hband'])/df_dax_m30_d1['m30_BB_hband']\n",
    "df_dax_m30_d1['m30_pos_lband']=(df_dax_m30_d1['Close'].shift(1)-df_dax_m30_d1['m30_BB_lband'])/df_dax_m30_d1['m30_BB_lband']"
   ]
  },
  {
   "cell_type": "code",
   "execution_count": null,
   "metadata": {},
   "outputs": [],
   "source": [
    "df_dax_m30_d1['m30_atr_atr14']=((df_dax_m30_d1['High'].shift(1)-df_dax_m30_d1['Low'].shift(1))-df_dax_m30_d1['m30_atr14'])/df_dax_m30_d1['m30_atr14']"
   ]
  },
  {
   "cell_type": "code",
   "execution_count": null,
   "metadata": {},
   "outputs": [],
   "source": [
    "df_dax_m30_d1[['High','Low','m30_atr14','m30_atr_atr14']][100:105]"
   ]
  },
  {
   "cell_type": "code",
   "execution_count": null,
   "metadata": {},
   "outputs": [],
   "source": [
    "df_dax_m30_d1=pd.read_csv(PATH_DATA_Quant+\"DAX_M30_QDM_D1_YF_TA.zip\",sep=\",\",index_col=\"Datetime\",parse_dates=True)"
   ]
  },
  {
   "cell_type": "code",
   "execution_count": null,
   "metadata": {},
   "outputs": [],
   "source": [
    "df_dax_m30_d1['m30_is_up']=(df_dax_m30_d1['Close']>df_dax_m30_d1['Open'])\n",
    "df_dax_m30_d1['m30_is_up']=df_dax_m30_d1['m30_is_up'].shift(1)\n",
    "df_dax_m30_d1[['Close','Open','m30_is_up']][800:805]"
   ]
  },
  {
   "cell_type": "code",
   "execution_count": null,
   "metadata": {},
   "outputs": [],
   "source": [
    "df_dax_m30_d1['m30_highest_20']=df_dax_m30_d1['Close'].rolling(20).max().shift(1)\n",
    "df_dax_m30_d1['m30_pos_highest20']=(df_dax_m30_d1['Close'].shift(1)>=df_dax_m30_d1['m30_highest_20'])\n",
    "df_dax_m30_d1[['Close','m30_highest_20','m30_pos_highest20']][800:805]"
   ]
  },
  {
   "cell_type": "code",
   "execution_count": null,
   "metadata": {},
   "outputs": [],
   "source": [
    "df_dax_m30_d1.rename(columns={\"Close_d1_x\":\"Close_d1\",\"Volume_d1_x\":\"Volume_d1\"},inplace=True)\n",
    "df_dax_m30_d1[800:805].describe()"
   ]
  },
  {
   "cell_type": "code",
   "execution_count": null,
   "metadata": {},
   "outputs": [],
   "source": [
    "df_dax_m30_d1['d1_highest_20']=df_dax_m30_d1['Close_d1'].rolling(20).max().shift(1)\n",
    "df_dax_m30_d1[['Close_d1','d1_highest_20']][100:105]"
   ]
  },
  {
   "cell_type": "code",
   "execution_count": null,
   "metadata": {},
   "outputs": [],
   "source": [
    "df_dax_m30_d1['m30_hour_int']=df_dax_m30_d1.index.hour\n",
    "df_dax_m30_d1[['m30_hour_int']][90:95]"
   ]
  },
  {
   "cell_type": "code",
   "execution_count": null,
   "metadata": {},
   "outputs": [],
   "source": [
    "df_dax_m30_d1['d1_pos_sma20']=(df_dax_m30_d1['Close_d1'].shift(1)-df_dax_m30_d1['d1_sma20'])/df_dax_m30_d1['d1_sma20']\n",
    "df_dax_m30_d1['d1_pos_sma50']=(df_dax_m30_d1['Close_d1'].shift(1)-df_dax_m30_d1['d1_sma50'])/df_dax_m30_d1['d1_sma50']\n",
    "df_dax_m30_d1['d1_pos_sma200']=(df_dax_m30_d1['Close_d1'].shift(1)-df_dax_m30_d1['d1_sma200'])/df_dax_m30_d1['d1_sma200']\n",
    "df_dax_m30_d1['d1_pos_hband']=(df_dax_m30_d1['Close_d1'].shift(1)-df_dax_m30_d1['d1_BB_hband'])/df_dax_m30_d1['d1_BB_hband']\n",
    "df_dax_m30_d1['d1_pos_lband']=(df_dax_m30_d1['Close_d1'].shift(1)-df_dax_m30_d1['d1_BB_lband'])/df_dax_m30_d1['d1_BB_lband']\n",
    "\n"
   ]
  },
  {
   "cell_type": "code",
   "execution_count": null,
   "metadata": {},
   "outputs": [],
   "source": [
    "df_dax_m30_d1['d1_BBW_BBw20']=(df_dax_m30_d1['d1_BB_wband']-df_dax_m30_d1['d1_sma20_wband'])/df_dax_m30_d1['d1_sma20_wband']\n",
    "df_dax_m30_d1['d1_vol_vol20']=(df_dax_m30_d1['Volume_d1']-df_dax_m30_d1['d1_sma20_volume'])/df_dax_m30_d1['d1_sma20_volume']\n",
    "df_dax_m30_d1['d1_pos_highest20']=(df_dax_m30_d1['Close_d1'].shift(1)>=df_dax_m30_d1['d1_highest_20'])"
   ]
  },
  {
   "cell_type": "code",
   "execution_count": null,
   "metadata": {},
   "outputs": [],
   "source": [
    "df_dax_m30_d1[['Close_d1', 'd1_pos_sma20', 'd1_pos_sma50', 'd1_pos_sma200', 'd1_pos_hband',\n",
    "               'd1_pos_lband', 'd1_BBW_BBw20', 'd1_vol_vol20', 'd1_pos_highest20']][14800:14805]\n"
   ]
  },
  {
   "cell_type": "code",
   "execution_count": null,
   "metadata": {},
   "outputs": [],
   "source": [
    "df_dax_m30_d1.drop(columns=['Close_d1_y','Volume_d1_y'],inplace=True)"
   ]
  },
  {
   "cell_type": "code",
   "execution_count": null,
   "metadata": {},
   "outputs": [],
   "source": [
    "df_dax_m30_d1.round(5).to_csv(\n",
    "    PATH_DATA_Quant+\"DAX_M30_QDM_D1_YF_TA_norm.zip\", sep=\",\")\n"
   ]
  },
  {
   "cell_type": "code",
   "execution_count": null,
   "metadata": {},
   "outputs": [],
   "source": [
    "df_dax_m30_d1.sort_index().loc['2015-01-01':'2017-01-01'].plot(y=['d1_pos_sma20','d1_pos_sma50','d1_pos_sma200','d1_pos_hband','d1_pos_lband'])"
   ]
  },
  {
   "cell_type": "code",
   "execution_count": null,
   "metadata": {},
   "outputs": [],
   "source": [
    "df_dax_m30_d1.sort_index().loc['2015-01-01':'2017-01-01'].plot.hist(y=['d1_pos_sma20','d1_pos_sma50','d1_pos_sma200'],bins=20,alpha=0.5)"
   ]
  },
  {
   "cell_type": "code",
   "execution_count": null,
   "metadata": {},
   "outputs": [],
   "source": [
    "df_dax_m30_d1.sort_index().loc['2015-01-01':'2017-01-01'].plot.hist(y=['d1_pos_hband','d1_pos_lband'],bins=20,alpha=0.5)"
   ]
  },
  {
   "cell_type": "code",
   "execution_count": null,
   "metadata": {},
   "outputs": [],
   "source": [
    "df_dax_m30_d1.sort_index().loc['2014-01-01':'2022-01-01'].plot.hist(y=['d1_vol_vol20_norm'],bins=20,alpha=0.5)"
   ]
  },
  {
   "cell_type": "code",
   "execution_count": null,
   "metadata": {},
   "outputs": [],
   "source": [
    "df_dax_m30_d1['d1_vol_vol20_norm']=np.where(df_dax_m30_d1['d1_vol_vol20']>2,2, df_dax_m30_d1['d1_vol_vol20'])"
   ]
  },
  {
   "cell_type": "code",
   "execution_count": null,
   "metadata": {},
   "outputs": [],
   "source": [
    "df_dax_m30_d1 = pd.read_csv(PATH_DATA_Quant+\"DAX_M30_QDM_D1_YF_TA_norm.zip\", sep=\",\",\n",
    "                            index_col=\"Datetime\", parse_dates=True, keep_default_na=True, low_memory=False)\n",
    "df_dax_m30_d1.sort_index(inplace = True)\n",
    "df_dax_m30_d1.info()\n"
   ]
  },
  {
   "cell_type": "code",
   "execution_count": null,
   "metadata": {},
   "outputs": [],
   "source": [
    "df_dax_m30_d1.astype({'m30_is_up':'bool'}).dtypes\n",
    "df_dax_m30_d1['m30_is_up'].head()"
   ]
  },
  {
   "cell_type": "code",
   "execution_count": null,
   "metadata": {},
   "outputs": [],
   "source": [
    "df_dax_m30_d1['m30_dist_sl_low50']=(df_dax_m30_d1['Close'].shift(1)-df_dax_m30_d1['m30_lowest_50'])*1.05\n",
    "df_dax_m30_d1[['Open','m30_lowest_50','m30_dist_sl_low50']][100:105]"
   ]
  },
  {
   "cell_type": "code",
   "execution_count": null,
   "metadata": {},
   "outputs": [],
   "source": [
    "df_dax_m30_d1['m30_dist_sl'] = np.where(df_dax_m30_d1['m30_dist_sl_low50'] < 3 *\n",
    "                                        df_dax_m30_d1['m30_atr14'], 3*df_dax_m30_d1['m30_atr14'], df_dax_m30_d1['m30_dist_sl_low50'])\n",
    "df_dax_m30_d1[['m30_dist_sl_low50', 'm30_atr14', 'm30_dist_sl']][100:105]\n"
   ]
  },
  {
   "cell_type": "code",
   "execution_count": null,
   "metadata": {},
   "outputs": [],
   "source": [
    "df_dax_m30_d1['m30_tp_3sl']=df_dax_m30_d1['Open']+df_dax_m30_d1['m30_dist_sl']*3\n",
    "df_dax_m30_d1[['Open','m30_dist_sl','m30_tp_3sl']][100:105]"
   ]
  },
  {
   "cell_type": "code",
   "execution_count": null,
   "metadata": {},
   "outputs": [],
   "source": [
    "df_dax_m30_d1.round(5).to_csv(\n",
    "    PATH_DATA_Quant+\"DAX_M30_QDM_D1_YF_TA_norm.zip\", sep=\",\")\n"
   ]
  },
  {
   "cell_type": "code",
   "execution_count": null,
   "metadata": {},
   "outputs": [],
   "source": [
    "df_dax_m30_d1['m30_date_max_tp']=df_dax_m30_d1.index+timedelta(days=7)\n",
    "df_dax_m30_d1['m30_date_max_tp']\n"
   ]
  },
  {
   "cell_type": "code",
   "execution_count": null,
   "metadata": {},
   "outputs": [],
   "source": [
    "df_dax_m30_d1['m30_close_max_7d']=df_dax_m30_d1[::-1]['Close'].rolling('7d', min_periods=20).max()\n",
    "df_dax_m30_d1[['Close','m30_date_max_tp','m30_close_max_7d']]"
   ]
  },
  {
   "cell_type": "code",
   "execution_count": null,
   "metadata": {},
   "outputs": [],
   "source": [
    "df_dax_m30_d1.drop('m30_close_end',axis=1,errors='ignore')\n",
    "df_dax_m30_d1.sort_index(inplace = True)\n",
    "df_dax_m30_d1['m30_close_end']=df_dax_m30_d1['Close'].shift(-7,freq='D')\n",
    "\n",
    "df_dax_m30_d1['m30_close_end']=df_dax_m30_d1['m30_close_end'].fillna(method='pad')\n",
    "df_dax_m30_d1[100:105][['Close','m30_date_max_tp','m30_close_max_7d','m30_close_end']]"
   ]
  },
  {
   "cell_type": "code",
   "execution_count": null,
   "metadata": {},
   "outputs": [],
   "source": [
    "df_dax_m30_d1['m30_val_sl']=df_dax_m30_d1['Open']-df_dax_m30_d1['m30_dist_sl']"
   ]
  },
  {
   "cell_type": "code",
   "execution_count": null,
   "metadata": {},
   "outputs": [],
   "source": [
    "df_dax_m30_d1['Datetime_str'] = df_dax_m30_d1['Date']+\" \"+df_dax_m30_d1['Time']\n",
    "print(df_dax_m30_d1[77100:77105]['Datetime_str'])"
   ]
  },
  {
   "cell_type": "code",
   "execution_count": null,
   "metadata": {},
   "outputs": [],
   "source": [
    "df_dax_m30_d1['Datetime'] = pd.to_datetime(df_dax_m30_d1['Datetime_str'], format=\"%Y-%m-%d %X\")\n"
   ]
  },
  {
   "cell_type": "code",
   "execution_count": null,
   "metadata": {},
   "outputs": [],
   "source": [
    "# TOO GREEDY DON'T EXECUTE !!!!\n",
    "df_dax_m30_d1['m30_exit_2'] = 0\n",
    "for cur_row in df_dax_m30_d1.itertuples():\n",
    "    val = 0\n",
    "    i = 0\n",
    "    print(f\"idx:{cur_row.Index} time:{datetime.now()}\" )\n",
    "    while val==0:\n",
    "        futur_row = df_dax_m30_d1.shift(-i).loc[cur_row.Index] \n",
    "        if futur_row.Low <= cur_row.m30_val_sl:\n",
    "            val = cur_row.m30_val_sl\n",
    "        elif futur_row.Close >= cur_row.m30_close_before_end:\n",
    "            val = cur_row.m30_close_before_end\n",
    "        elif futur_row.name >= pd.to_datetime(cur_row.m30_date_max_tp,format=\"%Y-%m-%d %X\"):\n",
    "            val = cur_row.m30_close_end\n",
    "        else:\n",
    "            i += 1\n",
    "            if i > 350:\n",
    "                val = -1\n",
    "                print(\"weird exit\")\n",
    "\n",
    "    df_dax_m30_d1.loc[cur_row.Index]['m30_exit_2'] =val"
   ]
  },
  {
   "cell_type": "code",
   "execution_count": null,
   "metadata": {},
   "outputs": [],
   "source": [
    "df_dax_m30_d1['m30_exit'] = np.nan\n",
    "\n",
    "for i in range(2*24*5): #2*24*5\n",
    "    df_shifted = df_dax_m30_d1.shift(-i)\n",
    "    df_dax_m30_d1['m30_exit_date'] = np.where(np.isnan(df_dax_m30_d1['m30_exit']),df_shifted['Datetime'],df_dax_m30_d1['m30_exit_date'])\n",
    "\n",
    "    df_dax_m30_d1['m30_exit'] = np.where((np.isnan(df_dax_m30_d1['m30_exit'])) & (df_shifted['Low'] <= df_dax_m30_d1['m30_val_sl']),\n",
    "                                           df_dax_m30_d1['m30_val_sl'], df_dax_m30_d1['m30_exit'])\n",
    "    df_dax_m30_d1['m30_exit'] = np.where((np.isnan(df_dax_m30_d1['m30_exit'])) & (df_shifted['Close'] >= df_dax_m30_d1['m30_tp_3sl']),\n",
    "                                           df_dax_m30_d1['m30_tp_3sl'], df_dax_m30_d1['m30_exit'])\n",
    "    df_dax_m30_d1['m30_exit'] = np.where((np.isnan(df_dax_m30_d1['m30_exit'] )) & (df_shifted['Datetime'] >= pd.to_datetime(df_dax_m30_d1['m30_date_max_tp'], format=\"%Y-%m-%d %X\")),\n",
    "                                           df_dax_m30_d1['m30_close_end'], df_dax_m30_d1['m30_exit'])\n",
    "\n"
   ]
  },
  {
   "cell_type": "code",
   "execution_count": null,
   "metadata": {},
   "outputs": [],
   "source": [
    "df_dax_m30_d1[11300:11310][['m30_val_sl','m30_tp_3sl','m30_close_end','m30_exit_date','m30_exit']]"
   ]
  },
  {
   "cell_type": "code",
   "execution_count": null,
   "metadata": {},
   "outputs": [],
   "source": [
    "df_dax_m30_d1['m30_top_tp_touch']=np.where(df_dax_m30_d1['m30_exit']==df_dax_m30_d1['m30_tp_3sl'],1,0)\n",
    "df_dax_m30_d1['m30_top_tp_touch'].describe()"
   ]
  },
  {
   "cell_type": "code",
   "execution_count": null,
   "metadata": {},
   "outputs": [],
   "source": [
    "df_dax_m30_d1['m30_top_close_end']=np.where(df_dax_m30_d1['m30_exit']==df_dax_m30_d1['m30_close_end'],1,0)\n",
    "df_dax_m30_d1['m30_top_close_end'].describe()"
   ]
  },
  {
   "cell_type": "code",
   "execution_count": null,
   "metadata": {},
   "outputs": [],
   "source": [
    "df_dax_m30_d1['m30_hour_norm']=df_dax_m30_d1['m30_hour_int']/24"
   ]
  },
  {
   "cell_type": "code",
   "execution_count": null,
   "metadata": {},
   "outputs": [],
   "source": [
    "df_dax_m30_d1['m30_exit_norm'] = (df_dax_m30_d1['m30_exit']-df_dax_m30_d1['m30_val_sl'])/(\n",
    "    df_dax_m30_d1['m30_tp_3sl']-df_dax_m30_d1['m30_val_sl'])\n",
    "df_dax_m30_d1['m30_exit_norm'].describe()\t\n"
   ]
  },
  {
   "cell_type": "code",
   "execution_count": null,
   "metadata": {},
   "outputs": [],
   "source": [
    "df_dax_m30_d1.round(5).to_csv(\n",
    "    PATH_DATA_Quant+\"DAX_M30_QDM_D1_YF_TA_clean.zip\", sep=\",\")\n"
   ]
  },
  {
   "cell_type": "code",
   "execution_count": null,
   "metadata": {},
   "outputs": [],
   "source": [
    "df_dax_m30_d1 = pd.read_csv(PATH_DATA_Quant+\"DAX_M30_QDM_D1_YF_TA_clean.zip\", sep=\",\",\n",
    "                            index_col=\"Datetime\", parse_dates=True, keep_default_na=True, low_memory=False)\n",
    "df_dax_m30_d1.sort_index(inplace = True)\n",
    "df_dax_m30_d1.info()"
   ]
  },
  {
   "cell_type": "code",
   "execution_count": null,
   "metadata": {},
   "outputs": [],
   "source": [
    "df_dax_m30_d1['d1_rsi14']=df_dax_m30_d1['d1_rsi14']/100\n"
   ]
  },
  {
   "cell_type": "code",
   "execution_count": null,
   "metadata": {},
   "outputs": [],
   "source": [
    "df_dax_m30_d1['m30_perf_exit']=(df_dax_m30_d1['m30_exit']-df_dax_m30_d1['Open'])/df_dax_m30_d1['m30_dist_sl']"
   ]
  },
  {
   "cell_type": "code",
   "execution_count": null,
   "metadata": {},
   "outputs": [],
   "source": [
    "df_dax_m30_d1.sort_index().loc['2014-01-01':'2022-07-01'].plot.hist(y=['m30_perf_exit'],bins=20,alpha=0.5)"
   ]
  },
  {
   "cell_type": "code",
   "execution_count": null,
   "metadata": {},
   "outputs": [],
   "source": [
    "df_dax_m30_d1['m30_perf_exit'].describe()"
   ]
  },
  {
   "cell_type": "code",
   "execution_count": null,
   "metadata": {},
   "outputs": [],
   "source": [
    "df_dax_m30_d1.sort_index().loc['2014-01-01':'2022-01-01'].plot.hist(y=['m30_return'],bins=20,alpha=0.5)"
   ]
  }
 ],
 "metadata": {
  "kernelspec": {
   "display_name": "Python 3.10.5 ('.env': venv)",
   "language": "python",
   "name": "python3"
  },
  "language_info": {
   "codemirror_mode": {
    "name": "ipython",
    "version": 3
   },
   "file_extension": ".py",
   "mimetype": "text/x-python",
   "name": "python",
   "nbconvert_exporter": "python",
   "pygments_lexer": "ipython3",
   "version": "3.10.7"
  },
  "orig_nbformat": 4,
  "vscode": {
   "interpreter": {
    "hash": "a2896e4ce5f23ddda08fd9b416c5d713c4b6b1cabb7e607259e381c0ed43c6e3"
   }
  }
 },
 "nbformat": 4,
 "nbformat_minor": 2
}
