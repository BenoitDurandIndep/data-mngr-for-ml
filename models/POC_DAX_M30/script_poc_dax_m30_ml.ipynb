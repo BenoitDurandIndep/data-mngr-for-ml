{
 "cells": [
  {
   "cell_type": "markdown",
   "metadata": {},
   "source": [
    "POC DAX M30 : POC to test different scores with DAX30 data using both 30 min timeframe and 1 day timeframe.\n",
    "This notebook is the second part : try differents algo : classification with random forest and regression with random forest and XGBoost"
   ]
  },
  {
   "cell_type": "code",
   "execution_count": null,
   "metadata": {},
   "outputs": [],
   "source": [
    "from importlib import reload\n",
    "import pandas as pd\n",
    "import numpy as np\n",
    "from datetime import timedelta,datetime\n",
    "import ta\n",
    "import time\n",
    "from pathlib import Path\n",
    "import matplotlib.pyplot as plt\n",
    "from scipy.stats import uniform, randint\n",
    "\n",
    "from sklearn.ensemble import RandomForestClassifier\n",
    "from sklearn.ensemble import RandomForestRegressor\n",
    "from sklearn.model_selection import train_test_split,RandomizedSearchCV,cross_val_score,GridSearchCV\n",
    "from sklearn import metrics\n",
    "import pickle\n",
    "import joblib\n",
    "import xgboost as xgb\n"
   ]
  },
  {
   "cell_type": "code",
   "execution_count": null,
   "metadata": {},
   "outputs": [],
   "source": [
    "PATH_DATA = \"../../../Data/\"\n",
    "PATH_DATA_Quant = \"../../../Data/dl_quant/\"\n",
    "PATH_DATA_Yahoo = \"../../../Data/dl_yahoo/\""
   ]
  },
  {
   "cell_type": "code",
   "execution_count": null,
   "metadata": {},
   "outputs": [],
   "source": [
    "def report_best_scores(results, n_top=3):\n",
    "    for i in range(1, n_top + 1):\n",
    "        candidates = np.flatnonzero(results['rank_test_score'] == i)\n",
    "        for candidate in candidates:\n",
    "            print(\"Model with rank: {0}\".format(i))\n",
    "            print(\"Mean validation score: {0:.3f} (std: {1:.3f})\".format(\n",
    "                  results['mean_test_score'][candidate],\n",
    "                  results['std_test_score'][candidate]))\n",
    "            print(\"Parameters: {0}\".format(results['params'][candidate]))\n",
    "            print(\"\")"
   ]
  },
  {
   "cell_type": "code",
   "execution_count": null,
   "metadata": {},
   "outputs": [],
   "source": [
    "df_dax_m30_d1 = pd.read_csv(PATH_DATA_Quant+\"DAX_M30_QDM_D1_YF_TA_clean.zip\", sep=\",\",\n",
    "                            index_col=\"Datetime\", parse_dates=True, keep_default_na=True, low_memory=False)\n",
    "df_dax_m30_d1.sort_index(inplace = True)\n",
    "df_dax_m30_d1.info()"
   ]
  },
  {
   "cell_type": "code",
   "execution_count": null,
   "metadata": {},
   "outputs": [],
   "source": [
    "df_model = df_dax_m30_d1[['m30_atr_atr14_norm', 'm30_pos_sma20_norm', 'm30_pos_hband_norm', 'm30_pos_lband_norm', 'm30_market_open', 'm30_return', 'm30_rsi14', 'm30_is_up', 'm30_pos_highest20',\n",
    "                          'm30_hour_norm', 'd1_pos_sma20_norm', 'd1_pos_sma50_norm', 'd1_pos_hband_norm', 'd1_pos_lband_norm', 'd1_vol_vol20_norm', 'd1_BBW_BBw20', 'd1_pos_sma200', 'd1_pos_highest20', 'd1_rsi14', 'd1_return', 'm30_top_tp_touch']]\n",
    "df_model.dropna(inplace=True)\n",
    "df_model.describe()\n"
   ]
  },
  {
   "cell_type": "code",
   "execution_count": null,
   "metadata": {},
   "outputs": [],
   "source": [
    "X_cols=df_model[['m30_atr_atr14_norm', 'm30_pos_sma20_norm', 'm30_pos_hband_norm', 'm30_pos_lband_norm', 'm30_market_open', 'm30_return', 'm30_rsi14', 'm30_is_up', 'm30_pos_highest20',\n",
    "                          'm30_hour_norm', 'd1_pos_sma20_norm', 'd1_pos_sma50_norm', 'd1_pos_hband_norm', 'd1_pos_lband_norm', 'd1_vol_vol20_norm', 'd1_BBW_BBw20', 'd1_pos_sma200', 'd1_pos_highest20', 'd1_rsi14', 'd1_return']]\n",
    "y_cols=df_model['m30_top_tp_touch']"
   ]
  },
  {
   "cell_type": "code",
   "execution_count": null,
   "metadata": {},
   "outputs": [],
   "source": [
    "X_cols_valid=X_cols['2020-07-01':]\n",
    "y_cols_valid=y_cols['2020-07-01':]\n",
    "X_cols_train_test=X_cols[:'2020-07-01']\n",
    "y_cols_train_test=y_cols[:'2020-07-01']"
   ]
  },
  {
   "cell_type": "code",
   "execution_count": null,
   "metadata": {},
   "outputs": [],
   "source": [
    "X_train, X_test, y_train, y_test = train_test_split(\n",
    "    X_cols_train_test, y_cols_train_test, random_state=0, train_size=0.7)\n"
   ]
  },
  {
   "cell_type": "code",
   "execution_count": null,
   "metadata": {},
   "outputs": [],
   "source": [
    "y_train.describe()"
   ]
  },
  {
   "cell_type": "code",
   "execution_count": null,
   "metadata": {},
   "outputs": [],
   "source": [
    "rand_frst_clf=RandomForestClassifier(n_estimators=100,oob_score=True,criterion='gini',random_state=28,class_weight=\"balanced\")\n",
    "rand_frst_clf.fit(X_train,y_train)"
   ]
  },
  {
   "cell_type": "code",
   "execution_count": null,
   "metadata": {},
   "outputs": [],
   "source": [
    "y_pred_test=rand_frst_clf.predict(X_test)"
   ]
  },
  {
   "cell_type": "code",
   "execution_count": null,
   "metadata": {},
   "outputs": [],
   "source": [
    "print(f\"Accuracy :{accuracy_score(y_test,rand_frst_clf.predict(X_test),normalize=True)*100}\")"
   ]
  },
  {
   "cell_type": "code",
   "execution_count": null,
   "metadata": {},
   "outputs": [],
   "source": [
    "report=classification_report(y_true=y_test,y_pred=y_pred_test,target_names=['bad','TP touched'],output_dict=True)\n",
    "df_report=pd.DataFrame(report).transpose()\n",
    "df_report"
   ]
  },
  {
   "cell_type": "code",
   "execution_count": null,
   "metadata": {},
   "outputs": [],
   "source": [
    "feat_imp=rand_frst_clf.feature_importances_\n",
    "std_feat_imp = np.std([tree.feature_importances_ for tree in rand_frst_clf.estimators_], axis=0)\n",
    "pd.Series(feat_imp,index=X_cols.columns).sort_values(ascending=False)"
   ]
  },
  {
   "cell_type": "code",
   "execution_count": null,
   "metadata": {},
   "outputs": [],
   "source": [
    "\n",
    "forest_importances = pd.Series(feat_imp, index=X_cols.columns)\n",
    "\n",
    "fig, ax = plt.subplots()\n",
    "forest_importances.plot.bar(yerr=std_feat_imp, ax=ax)\n",
    "ax.set_title(\"Feature importances using MDI\")\n",
    "ax.set_ylabel(\"Mean decrease in impurity\")\n",
    "fig.tight_layout()"
   ]
  },
  {
   "cell_type": "code",
   "execution_count": null,
   "metadata": {},
   "outputs": [],
   "source": [
    "# X_train_trim, , y_train, y_test = train_test_split(\n",
    "#    X_cols_train_test, y_cols_train_test, random_state=0, train_size=0.7)\n",
    "X_test_trim = pd.concat([X_cols_train_test['2015-04-01':'2015-06-30'],\n",
    "                        X_cols_train_test['2015-10-01':'2015-12-31'], X_cols_train_test['2016-04-01':'2016-12-31'],X_cols_train_test['2018-01-01':'2018-03-31'],X_cols_train_test['2019-01-01':'2019-03-31']])\n",
    "y_test_trim = pd.concat([y_cols_train_test['2015-04-01':'2015-06-30'],\n",
    "                        y_cols_train_test['2015-10-01':'2015-12-31'], y_cols_train_test['2016-04-01':'2016-12-31'],y_cols_train_test['2018-01-01':'2018-03-31'],y_cols_train_test['2019-01-01':'2019-03-31']])\n",
    "\n",
    "y_test_trim.describe()"
   ]
  },
  {
   "cell_type": "code",
   "execution_count": null,
   "metadata": {},
   "outputs": [],
   "source": [
    "X_train_trim=X_cols_train_test.merge(X_test_trim,indicator=True,how='left').loc[lambda x : x['_merge']!='both']\n",
    "X_train_trim.drop(axis=1, columns='_merge',inplace=True)\n",
    "X_train_trim.describe()"
   ]
  },
  {
   "cell_type": "code",
   "execution_count": null,
   "metadata": {},
   "outputs": [],
   "source": [
    "y_train_trim=y_cols_train_test[~y_cols_train_test.index.isin(y_test_trim.index)]\n",
    "y_train_trim.describe()"
   ]
  },
  {
   "cell_type": "code",
   "execution_count": null,
   "metadata": {},
   "outputs": [],
   "source": [
    "rand_frst_clf_trim=RandomForestClassifier(n_estimators=100,oob_score=True,criterion='gini',random_state=28,class_weight=\"balanced\")\n",
    "rand_frst_clf_trim.fit(X_train_trim,y_train_trim)"
   ]
  },
  {
   "cell_type": "code",
   "execution_count": null,
   "metadata": {},
   "outputs": [],
   "source": [
    "y_pred_test_trim=rand_frst_clf_trim.predict(X_test_trim)\n",
    "print(f\"Accuracy :{accuracy_score(y_test_trim,rand_frst_clf_trim.predict(X_test_trim),normalize=True)*100}\")"
   ]
  },
  {
   "cell_type": "code",
   "execution_count": null,
   "metadata": {},
   "outputs": [],
   "source": [
    "report_trim=classification_report(y_true=y_test_trim,y_pred=y_pred_test_trim,target_names=['bad','TP touched'],output_dict=True)\n",
    "df_report_trim=pd.DataFrame(report_trim).transpose()\n",
    "df_report_trim"
   ]
  },
  {
   "cell_type": "code",
   "execution_count": null,
   "metadata": {},
   "outputs": [],
   "source": [
    "feat_imp_trim=rand_frst_clf_trim.feature_importances_\n",
    "std_feat_imp_trim = np.std([tree.feature_importances_ for tree in rand_frst_clf_trim.estimators_], axis=0)\n",
    "pd.Series(feat_imp_trim,index=X_cols.columns).sort_values(ascending=False)"
   ]
  },
  {
   "cell_type": "code",
   "execution_count": null,
   "metadata": {},
   "outputs": [],
   "source": [
    "\n",
    "forest_importances_trim = pd.Series(feat_imp_trim, index=X_cols.columns)\n",
    "\n",
    "fig, ax = plt.subplots()\n",
    "forest_importances_trim.plot.bar(yerr=std_feat_imp_trim, ax=ax)\n",
    "ax.set_title(\"Feature importances using MDI\")\n",
    "ax.set_ylabel(\"Mean decrease in impurity\")\n",
    "fig.tight_layout()"
   ]
  },
  {
   "cell_type": "code",
   "execution_count": null,
   "metadata": {},
   "outputs": [],
   "source": [
    "y_pred_valid=rand_frst_clf.predict(X_cols_valid)\n",
    "y_pred_valid_trim=rand_frst_clf_trim.predict(X_cols_valid)\n",
    "print(f\"Accuracy shuffle:{metrics.accuracy_score(y_cols_valid,rand_frst_clf.predict(X_cols_valid),normalize=True)*100}\")\n",
    "print(f\"Accuracy trim :{metrics.accuracy_score(y_cols_valid,rand_frst_clf_trim.predict(X_cols_valid),normalize=True)*100}\")"
   ]
  },
  {
   "cell_type": "code",
   "execution_count": null,
   "metadata": {},
   "outputs": [],
   "source": [
    "report_valid=metrics.classification_report(y_true=y_cols_valid,y_pred=y_pred_valid,target_names=['bad','TP touched'],output_dict=True)\n",
    "df_report_valid=pd.DataFrame(report_valid).transpose()\n",
    "report_valid_trim=metrics.classification_report(y_true=y_cols_valid,y_pred=y_pred_valid_trim,target_names=['bad','TP touched'],output_dict=True)\n",
    "df_report_valid_trim=pd.DataFrame(report_valid_trim).transpose()\n",
    "print(df_report_valid)\n",
    "print(df_report_valid_trim)"
   ]
  },
  {
   "cell_type": "code",
   "execution_count": null,
   "metadata": {},
   "outputs": [],
   "source": [
    "df_dax_m30_d1 = pd.read_csv(PATH_DATA_Quant+\"DAX_M30_QDM_D1_YF_TA_clean.zip\", sep=\",\",\n",
    "                            index_col=\"Datetime\", parse_dates=True, keep_default_na=True, low_memory=False)\n",
    "df_dax_m30_d1.sort_index(inplace = True)\n",
    "df_model = df_dax_m30_d1[['m30_atr_atr14_norm', 'm30_pos_sma20_norm', 'm30_pos_hband_norm', 'm30_pos_lband_norm', 'm30_market_open', 'm30_return', 'm30_rsi14', 'm30_is_up', 'm30_pos_highest20',\n",
    "                          'm30_hour_norm', 'd1_pos_sma20_norm', 'd1_pos_sma50_norm', 'd1_pos_hband_norm', 'd1_pos_lband_norm', 'd1_vol_vol20_norm', 'd1_BBW_BBw20', 'd1_pos_sma200', 'd1_pos_highest20', 'd1_rsi14', 'd1_return', 'm30_top_tp_touch']]\n",
    "df_model.dropna(inplace=True)\n",
    "X_cols=df_model[['m30_atr_atr14_norm', 'm30_pos_sma20_norm', 'm30_pos_hband_norm', 'm30_pos_lband_norm', 'm30_market_open', 'm30_return', 'm30_rsi14', 'm30_is_up', 'm30_pos_highest20',\n",
    "                          'm30_hour_norm', 'd1_pos_sma20_norm', 'd1_pos_sma50_norm', 'd1_pos_hband_norm', 'd1_pos_lband_norm', 'd1_vol_vol20_norm', 'd1_BBW_BBw20', 'd1_pos_sma200', 'd1_pos_highest20', 'd1_rsi14', 'd1_return']]\n",
    "y_cols=df_model['m30_top_tp_touch']\n",
    "rand_frst_clf=joblib.load(PATH_DATA_Quant+\"poc_dax_m30_rand_forest.pkl\")"
   ]
  },
  {
   "cell_type": "code",
   "execution_count": null,
   "metadata": {},
   "outputs": [],
   "source": [
    "df_model.round(5).to_csv(\n",
    "    PATH_DATA_Quant+\"DAX_M30_D1_model.zip\", sep=\",\")\n",
    "joblib.dump(rand_frst_clf,PATH_DATA_Quant+\"poc_dax_m30_rand_forest.pkl\")"
   ]
  },
  {
   "cell_type": "code",
   "execution_count": null,
   "metadata": {},
   "outputs": [],
   "source": [
    "# too long and too greedy ! \n",
    "fig, axes = plt.subplots(nrows = 1,ncols = 1,figsize = (20,20), dpi=800)\n",
    "plot_tree(rand_frst_clf.estimators_[0], feature_names=X_cols.columns,\n",
    "          class_names=y_cols.name, filled=True, impurity=True, rounded=True)\n",
    "print(\"ok\")\n",
    "fig.savefig(PATH_DATA_Quant+\"rf_tree_0.png\")\n"
   ]
  },
  {
   "cell_type": "code",
   "execution_count": null,
   "metadata": {},
   "outputs": [],
   "source": [
    "df_model['predict']=rand_frst_clf.predict(df_model[X_cols.columns])"
   ]
  },
  {
   "cell_type": "code",
   "execution_count": null,
   "metadata": {},
   "outputs": [],
   "source": [
    "df_model[['m30_top_tp_touch','predict']].describe()"
   ]
  },
  {
   "cell_type": "code",
   "execution_count": null,
   "metadata": {},
   "outputs": [],
   "source": [
    "df_dax_m30_d1=df_dax_m30_d1.join(df_model['predict'], how=\"left\")\n",
    "df_dax_m30_d1[:5]"
   ]
  },
  {
   "cell_type": "code",
   "execution_count": null,
   "metadata": {},
   "outputs": [],
   "source": [
    "df_dax_m30_d1['predict']=df_dax_m30_d1['predict'].fillna(0)"
   ]
  },
  {
   "cell_type": "code",
   "execution_count": null,
   "metadata": {},
   "outputs": [],
   "source": [
    "df_dax_m30_d1['predict'].describe()"
   ]
  },
  {
   "cell_type": "code",
   "execution_count": null,
   "metadata": {},
   "outputs": [],
   "source": [
    "df_dax_m30_d1.round(5).to_csv(\n",
    "    PATH_DATA_Quant+\"DAX_M30_D1_with_predict.zip\", sep=\",\")\n",
    "\n",
    "joblib.dump(rand_frst_clf,PATH_DATA_Quant+\"poc_dax_m30_rand_forest.pkl\")"
   ]
  },
  {
   "cell_type": "markdown",
   "metadata": {},
   "source": [
    "###############################################################\n",
    " TEST OF REGRESSION \n",
    "##############################################################"
   ]
  },
  {
   "cell_type": "code",
   "execution_count": null,
   "metadata": {},
   "outputs": [],
   "source": [
    "df_model_reg = df_dax_m30_d1[['m30_pos_hband_norm', 'm30_pos_lband_norm',   'm30_rsi14','m30_hour_norm', 'd1_pos_sma20_norm', 'd1_pos_sma50_norm',\n",
    "                               'd1_pos_hband_norm', 'd1_pos_lband_norm', 'd1_vol_vol20_norm', 'd1_BBW_BBw20', 'd1_pos_sma200',  'd1_rsi14', 'd1_return', 'm30_perf_exit']]\n",
    "df_model_reg.dropna(inplace=True)\n",
    "df_model_reg.describe()\n"
   ]
  },
  {
   "cell_type": "code",
   "execution_count": null,
   "metadata": {},
   "outputs": [],
   "source": [
    "X_cols_reg=df_model_reg[['m30_pos_hband_norm', 'm30_pos_lband_norm',   'm30_rsi14','m30_hour_norm', 'd1_pos_sma20_norm', 'd1_pos_sma50_norm',\n",
    "                               'd1_pos_hband_norm', 'd1_pos_lband_norm', 'd1_vol_vol20_norm', 'd1_BBW_BBw20', 'd1_pos_sma200',  'd1_rsi14', 'd1_return']]\n",
    "y_cols_reg=df_model_reg['m30_perf_exit']\n",
    "X_cols_reg_valid=X_cols_reg['2020-07-01':]\n",
    "y_cols_reg_valid=y_cols_reg['2020-07-01':]\n",
    "X_cols_reg_train_test=X_cols_reg[:'2020-07-01']\n",
    "y_cols_reg_train_test=y_cols_reg[:'2020-07-01']"
   ]
  },
  {
   "cell_type": "code",
   "execution_count": null,
   "metadata": {},
   "outputs": [],
   "source": [
    "X_train_reg, X_test_reg, y_train_reg, y_test_reg = train_test_split(\n",
    "    X_cols_reg_train_test, y_cols_reg_train_test, random_state=28, train_size=0.7)"
   ]
  },
  {
   "cell_type": "code",
   "execution_count": null,
   "metadata": {},
   "outputs": [],
   "source": [
    "X_test_trim_reg = pd.concat([X_cols_reg_train_test['2015-04-01':'2015-06-30'],\n",
    "                        X_cols_reg_train_test['2015-10-01':'2015-12-31'], X_cols_reg_train_test['2016-04-01':'2016-12-31'],X_cols_reg_train_test['2018-01-01':'2018-03-31'],X_cols_reg_train_test['2019-01-01':'2019-03-31']])\n",
    "y_test_trim_reg = pd.concat([y_cols_reg_train_test['2015-04-01':'2015-06-30'],\n",
    "                        y_cols_reg_train_test['2015-10-01':'2015-12-31'], y_cols_reg_train_test['2016-04-01':'2016-12-31'],y_cols_reg_train_test['2018-01-01':'2018-03-31'],y_cols_reg_train_test['2019-01-01':'2019-03-31']])\n",
    "X_train_trim_reg=X_cols_reg_train_test.merge(X_test_trim_reg,indicator=True,how='left').loc[lambda x : x['_merge']!='both']\n",
    "X_train_trim_reg.drop(axis=1, columns='_merge',inplace=True)\n",
    "y_train_trim_reg=y_cols_reg_train_test[~y_cols_reg_train_test.index.isin(y_test_trim_reg.index)]\n",
    "y_train_trim_reg.describe()\n"
   ]
  },
  {
   "cell_type": "code",
   "execution_count": null,
   "metadata": {},
   "outputs": [],
   "source": [
    "# ,oob_score=True\n",
    "rand_frst_clf_reg = RandomForestRegressor(n_estimators=180, bootstrap=True, criterion='squared_error',\n",
    "                                          random_state=28, max_depth=6, min_samples_split=2, min_samples_leaf=5)\n",
    "rand_frst_clf_reg.fit(X_train_reg, y_train_reg)\n"
   ]
  },
  {
   "cell_type": "code",
   "execution_count": null,
   "metadata": {},
   "outputs": [],
   "source": [
    "rand_frst_clf_trim_reg = RandomForestRegressor(\n",
    "    n_estimators=180, bootstrap=True, criterion='squared_error', random_state=28, max_depth=6, min_samples_split=2, min_samples_leaf=5)\n",
    "rand_frst_clf_trim_reg.fit(X_train_trim_reg, y_train_trim_reg)\n"
   ]
  },
  {
   "cell_type": "code",
   "execution_count": null,
   "metadata": {},
   "outputs": [],
   "source": [
    "y_pred_test_reg=rand_frst_clf_reg.predict(X_test_reg)\n",
    "y_pred_test_trim_reg=rand_frst_clf_trim_reg.predict(X_test_trim_reg)\n",
    "print(f\"Accuracy shuffle :{rand_frst_clf_reg.score(X_test_reg,y_test_reg)*100}\")\n",
    "print(f\"Accuracy quarter :{rand_frst_clf_trim_reg.score(X_test_trim_reg,y_test_trim_reg)*100}\")"
   ]
  },
  {
   "cell_type": "code",
   "execution_count": null,
   "metadata": {},
   "outputs": [],
   "source": [
    "y_pred_test_reg_valid=rand_frst_clf_reg.predict(X_cols_reg_valid)\n",
    "y_pred_test_trim_reg_valid=rand_frst_clf_trim_reg.predict(X_cols_reg_valid)\n",
    "print(f\"Accuracy shuffle :{rand_frst_clf_reg.score(X_cols_reg_valid,y_cols_reg_valid)*100}\")\n",
    "print(f\"Accuracy quarter :{rand_frst_clf_trim_reg.score(X_cols_reg_valid,y_cols_reg_valid)*100}\")"
   ]
  },
  {
   "cell_type": "code",
   "execution_count": null,
   "metadata": {},
   "outputs": [],
   "source": [
    "n_estimators = [int(x) for x in np.linspace(start = 50, stop =200, num = 8)] # 178\n",
    "max_features = ['sqrt']\n",
    "max_depth = [int(x) for x in np.linspace(6, 15, num = 4)] #6\n",
    "min_samples_split = [2, 5, 10, 15, 100] # 2\n",
    "min_samples_leaf = [1, 2, 5, 10] # 5\n",
    "\n",
    "random_grid = {'n_estimators': n_estimators,\n",
    "           'max_features': max_features,\n",
    "           'max_depth': max_depth,\n",
    "           'min_samples_split': min_samples_split,\n",
    "           'min_samples_leaf': min_samples_leaf}\n",
    "           \n",
    "# rf=RandomForestRegressor()\n",
    "\n",
    "# rf_random = RandomizedSearchCV(estimator = rf,\n",
    "#                 param_distributions = random_grid,\n",
    "#                 #scoring='neg_mean_squared_error',\n",
    "#                 n_iter = 100,\n",
    "#                 cv = 3,\n",
    "#                 verbose=1,\n",
    "#                 random_state=28,\n",
    "#                 n_jobs = 1)\n",
    "# rf_random_trim = RandomizedSearchCV(estimator = rf,\n",
    "#                 param_distributions = random_grid,\n",
    "#                 #scoring='neg_mean_squared_error',\n",
    "#                 n_iter = 100,\n",
    "#                 cv = 3,\n",
    "#                 verbose=1,\n",
    "#                 random_state=28,\n",
    "#                 n_jobs = 1)\n",
    "\n",
    "# rf_random.fit(X_train_reg,y_train_reg)\n",
    "\n",
    "# rf_random_trim.fit(X_train_trim_reg,y_train_trim_reg)\n",
    "\n",
    "\n",
    "print(f\"Accuracy train shuffle :{rf_random.score(X_train_reg,y_train_reg)*100}\")\n",
    "print(f\"Accuracy train quart :{rf_random_trim.score(X_train_trim_reg,y_train_trim_reg)*100}\")\n",
    "\n",
    "print(f\"Accuracy test shuffle :{rf_random.score(X_test_reg,y_test_reg)*100}\")\n",
    "print(f\"Accuracy test quart :{rf_random_trim.score(X_test_trim_reg,y_test_trim_reg)*100}\")\n",
    "\n",
    "print(f\"Accuracy qualif shuffle :{rf_random.score(X_cols_reg_valid,y_cols_reg_valid)*100}\")\n",
    "print(f\"Accuracy qualif quart :{rf_random_trim.score(X_cols_reg_valid,y_cols_reg_valid)*100}\")\n",
    "    \n",
    "report_best_scores(rf_random.cv_results_, 1)\n",
    "report_best_scores(rf_random_trim.cv_results_, 1)"
   ]
  },
  {
   "cell_type": "code",
   "execution_count": null,
   "metadata": {},
   "outputs": [],
   "source": [
    "feat_imp=rand_frst_clf_reg.feature_importances_\n",
    "std_feat_imp = np.std([tree.feature_importances_ for tree in rand_frst_clf_reg.estimators_], axis=0)\n",
    "pd.Series(feat_imp,index=X_cols_reg_valid.columns).sort_values(ascending=False)"
   ]
  },
  {
   "cell_type": "code",
   "execution_count": null,
   "metadata": {},
   "outputs": [],
   "source": [
    "feat_imp=rand_frst_clf_trim_reg.feature_importances_\n",
    "std_feat_imp = np.std([tree.feature_importances_ for tree in rand_frst_clf_trim_reg.estimators_], axis=0)\n",
    "pd.Series(feat_imp,index=X_cols_reg_valid.columns).sort_values(ascending=False)"
   ]
  },
  {
   "cell_type": "code",
   "execution_count": null,
   "metadata": {},
   "outputs": [],
   "source": [
    "df_model_reg['predict_reg_shuf']=rand_frst_clf_reg.predict(df_model_reg[X_cols_reg_valid.columns])\n",
    "df_model_reg['predict_reg_trim']=rand_frst_clf_trim_reg.predict(df_model_reg[X_cols_reg_valid.columns])"
   ]
  },
  {
   "cell_type": "code",
   "execution_count": null,
   "metadata": {},
   "outputs": [],
   "source": [
    "df_model_reg[['m30_perf_exit','predict_reg_shuf','predict_reg_trim']].describe()"
   ]
  },
  {
   "cell_type": "code",
   "execution_count": null,
   "metadata": {},
   "outputs": [],
   "source": [
    "df_dax_m30_d1=df_dax_m30_d1.join(df_model_reg[['predict_reg_shuf','predict_reg_trim']], how=\"left\")"
   ]
  },
  {
   "cell_type": "code",
   "execution_count": null,
   "metadata": {},
   "outputs": [],
   "source": [
    "df_dax_m30_d1['predict_reg_shuf']=df_dax_m30_d1['predict_reg_shuf'].fillna(0)\n",
    "df_dax_m30_d1['predict_reg_trim']=df_dax_m30_d1['predict_reg_trim'].fillna(0)\n",
    "df_dax_m30_d1['meta_score_reg']=(df_dax_m30_d1['predict_reg_shuf']+df_dax_m30_d1['predict_reg_trim'])/2.0"
   ]
  },
  {
   "cell_type": "code",
   "execution_count": null,
   "metadata": {},
   "outputs": [],
   "source": [
    "df_dax_m30_d1.round(5).to_csv(\n",
    "    PATH_DATA_Quant+\"DAX_M30_D1_with_predict.zip\", sep=\",\")\n",
    "\t\n",
    "joblib.dump(rand_frst_clf_reg,PATH_DATA_Quant+\"poc_dax_m30_rand_forest_reg_shuffle.pkl\")\n",
    "joblib.dump(rand_frst_clf_trim_reg,PATH_DATA_Quant+\"poc_dax_m30_rand_forest_reg_trim.pkl\")"
   ]
  },
  {
   "cell_type": "code",
   "execution_count": null,
   "metadata": {},
   "outputs": [],
   "source": [
    "df_dax_pred = pd.read_csv(PATH_DATA_Quant+\"DAX_M30_D1_with_predict.zip\", sep=\",\",\n",
    "                            index_col=\"Datetime\", parse_dates=True, keep_default_na=True, low_memory=False)\n",
    "df_dax_pred.sort_index(inplace = True)\n",
    "df_dax_pred.info()"
   ]
  },
  {
   "cell_type": "code",
   "execution_count": null,
   "metadata": {},
   "outputs": [],
   "source": [
    "df_dax_pred['meta_score_reg']=(df_dax_pred['predict_reg_shuf']+df_dax_pred['predict_reg_trim'])/2.0"
   ]
  },
  {
   "cell_type": "code",
   "execution_count": null,
   "metadata": {},
   "outputs": [],
   "source": [
    "df_dax_m30_d1.dropna(inplace=True)\n",
    "rmse_reg_shuf=metrics.mean_squared_error(df_dax_m30_d1['m30_perf_exit'], df_dax_m30_d1['predict_reg_shuf'])\n",
    "rmse_reg_trim=metrics.mean_squared_error(df_dax_m30_d1['m30_perf_exit'], df_dax_m30_d1['predict_reg_trim'])\n",
    "rmse_reg_meta=metrics.mean_squared_error(df_dax_m30_d1['m30_perf_exit'], df_dax_m30_d1['meta_score_reg'])\n",
    "print(f\" rmse shuffle : {rmse_reg_shuf} rmse trim : {rmse_reg_trim} rmse meta : {rmse_reg_meta}\")"
   ]
  },
  {
   "cell_type": "markdown",
   "metadata": {},
   "source": [
    "########################### \n",
    "START XGBOOST \n",
    "########################### "
   ]
  },
  {
   "cell_type": "code",
   "execution_count": null,
   "metadata": {},
   "outputs": [],
   "source": [
    "params = {\n",
    "    'objective': 'reg:squarederror',\n",
    "    'random_state': 28,\n",
    "    'learning_rate': 0.03,\n",
    "    'subsample': 0.8,\n",
    "    'gamma': 0.15\n",
    "}\n",
    "xgb_reg_shuf = xgb.XGBRegressor(objective=params['objective'], random_state=params['random_state'],\n",
    "                                learning_rate=params['learning_rate'], subsample=params['subsample'], gamma=params['gamma'])\n",
    "xgb_reg_shuf.fit(X_train_reg, y_train_reg)\n",
    "xgb_reg_trim = xgb.XGBRegressor(objective=params['objective'], random_state=params['random_state'],\n",
    "                                learning_rate=params['learning_rate'], subsample=params['subsample'], gamma=params['gamma'])\n",
    "xgb_reg_trim.fit(X_train_trim_reg, y_train_trim_reg)\n"
   ]
  },
  {
   "cell_type": "code",
   "execution_count": null,
   "metadata": {},
   "outputs": [],
   "source": [
    "y_pred_test_reg = xgb_reg_shuf.predict(X_test_reg)\n",
    "y_pred_test_trim_reg = xgb_reg_trim.predict(X_test_trim_reg)\n",
    "print(\n",
    "    f\"Accuracy shuffle test :{xgb_reg_shuf.score(X_test_reg,y_test_reg)*100}\")\n",
    "print(\n",
    "    f\"Accuracy quarter test:{xgb_reg_trim.score(X_test_trim_reg,y_test_trim_reg)*100}\")\n",
    "\n",
    "y_pred_test_reg_valid = xgb_reg_shuf.predict(X_cols_reg_valid)\n",
    "y_pred_test_trim_reg_valid = xgb_reg_trim.predict(X_cols_reg_valid)\n",
    "print(\n",
    "    f\"Accuracy shuffle validation :{xgb_reg_shuf.score(X_cols_reg_valid,y_cols_reg_valid)*100}\")\n",
    "print(\n",
    "    f\"Accuracy quarter validation  :{xgb_reg_trim.score(X_cols_reg_valid,y_cols_reg_valid)*100}\")\n"
   ]
  },
  {
   "cell_type": "code",
   "execution_count": null,
   "metadata": {},
   "outputs": [],
   "source": [
    "xgb_reg_trim = xgb.XGBRegressor()\n",
    "\n",
    "params = {\n",
    "    \"colsample_bytree\": uniform(0.7, 0.3),\n",
    "    \"gamma\": uniform(0, 0.5),\n",
    "    \"learning_rate\": uniform(0.03, 0.3), # default 0.1 \n",
    "    \"max_depth\": randint(2, 6), # default 3\n",
    "    \"n_estimators\": randint(100, 150), # default 100\n",
    "    \"subsample\": uniform(0.6, 0.4)\n",
    "}\n",
    "\n",
    "search = RandomizedSearchCV(xgb_reg_trim, param_distributions=params, random_state=28, n_iter=200, cv=3, verbose=1, n_jobs=1, return_train_score=True)\n",
    "\n",
    "search.fit(X_train_trim_reg,y_train_trim_reg)\n",
    "\n",
    "report_best_scores(search.cv_results_, 1)"
   ]
  },
  {
   "cell_type": "code",
   "execution_count": null,
   "metadata": {},
   "outputs": [],
   "source": [
    "xgb.plot_importance(xgb_reg_trim)\n",
    "plt.show()"
   ]
  },
  {
   "cell_type": "code",
   "execution_count": null,
   "metadata": {},
   "outputs": [],
   "source": [
    "df_model_reg['predict_xgb_shuf']=xgb_reg_shuf.predict(df_model_reg[X_cols_reg_valid.columns])\n",
    "df_model_reg['predict_xgb_trim']=xgb_reg_trim.predict(df_model_reg[X_cols_reg_valid.columns])\n",
    "\n",
    "df_dax_m30_d1=df_dax_m30_d1.join(df_model_reg[['predict_xgb_shuf','predict_xgb_trim']], how=\"left\")\n",
    "\n",
    "df_dax_m30_d1['predict_xgb_shuf']=df_dax_m30_d1['predict_xgb_shuf'].fillna(0)\n",
    "df_dax_m30_d1['predict_xgb_trim']=df_dax_m30_d1['predict_xgb_trim'].fillna(0)\n",
    "df_dax_m30_d1['meta_score_xgb']=(df_dax_m30_d1['predict_xgb_shuf']+df_dax_m30_d1['predict_xgb_trim'])/2.0\n",
    "df_dax_m30_d1['meta_score_rf_xgb']=(df_dax_m30_d1['meta_score_reg']+df_dax_m30_d1['meta_score_xgb'])/2.0"
   ]
  },
  {
   "cell_type": "code",
   "execution_count": null,
   "metadata": {},
   "outputs": [],
   "source": [
    "df_dax_m30_d1.round(5).to_csv(\n",
    "    PATH_DATA_Quant+\"DAX_M30_D1_with_predict.zip\", sep=\",\")\n",
    "\t\n",
    "joblib.dump(xgb_reg_shuf,PATH_DATA_Quant+\"poc_dax_m30_xgb_reg_shuffle.pkl\")\n",
    "joblib.dump(xgb_reg_trim,PATH_DATA_Quant+\"poc_dax_m30_xgb_reg_trim.pkl\")"
   ]
  }
 ],
 "metadata": {
  "kernelspec": {
   "display_name": "Python 3.10.5 ('.env': venv)",
   "language": "python",
   "name": "python3"
  },
  "language_info": {
   "codemirror_mode": {
    "name": "ipython",
    "version": 3
   },
   "file_extension": ".py",
   "mimetype": "text/x-python",
   "name": "python",
   "nbconvert_exporter": "python",
   "pygments_lexer": "ipython3",
   "version": "3.10.5"
  },
  "orig_nbformat": 4,
  "vscode": {
   "interpreter": {
    "hash": "588c4d5d0abde81a8ebfffdc736a46bcad9c5b92be7be13fb4e3cb13087ce002"
   }
  }
 },
 "nbformat": 4,
 "nbformat_minor": 2
}
