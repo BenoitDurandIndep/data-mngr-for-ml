{
 "cells": [
  {
   "cell_type": "code",
   "execution_count": 1,
   "metadata": {},
   "outputs": [],
   "source": [
    "from importlib import reload\n",
    "import pandas as pd\n",
    "import numpy as np\n",
    "import random as rd\n",
    "from pathlib import Path\n",
    "import matplotlib.pyplot as plt\n",
    "import maria_import_export\n",
    "reload(maria_import_export)\n",
    "from  maria_import_export import *\n",
    "import add_indicators\n",
    "reload(add_indicators)\n",
    "from add_indicators import *\n",
    "import split_merge\n",
    "reload(split_merge)\n",
    "from split_merge import *"
   ]
  },
  {
   "cell_type": "markdown",
   "metadata": {},
   "source": [
    "Load data for CW8 ETF from Maria\n",
    "Add indicators and labels and save the dataset on disk"
   ]
  },
  {
   "cell_type": "code",
   "execution_count": 6,
   "metadata": {},
   "outputs": [],
   "source": [
    "PATH_DATA = \"../../../Data/\"\n",
    "symb=\"CW8\"\n",
    "dts_name=\"DCA_CLOSE_1D_V1\"\n",
    "df=pd.DataFrame()\n",
    "if \"con\" in locals():\n",
    "    close_connection(con)\n",
    "con=get_connection()\n",
    "df=get_candles_to_df(con=con, symbol=symb, only_close=True)\n",
    "df=add_indicators(con=con,df_in=df,dts_name=dts_name)\n",
    "df.sort_index(inplace = True)\n",
    "df.round(5).to_csv(\n",
    "    PATH_DATA+dts_name+\"_full.zip\", sep=\",\")"
   ]
  },
  {
   "cell_type": "markdown",
   "metadata": {},
   "source": [
    "Clean the dataset droping useless features\n",
    "Split the dataset by labels\n",
    "Split the datasets by train, val, conf part"
   ]
  },
  {
   "cell_type": "code",
   "execution_count": null,
   "metadata": {},
   "outputs": [],
   "source": [
    "df=drop_indicators_by_type(con=con, df_in=df,dts_name=dts_name, symbol=symb, ind_type=0)"
   ]
  },
  {
   "cell_type": "code",
   "execution_count": null,
   "metadata": {},
   "outputs": [],
   "source": []
  }
 ],
 "metadata": {
  "kernelspec": {
   "display_name": "Python 3.10.5 ('.env': venv)",
   "language": "python",
   "name": "python3"
  },
  "language_info": {
   "codemirror_mode": {
    "name": "ipython",
    "version": 3
   },
   "file_extension": ".py",
   "mimetype": "text/x-python",
   "name": "python",
   "nbconvert_exporter": "python",
   "pygments_lexer": "ipython3",
   "version": "3.10.5"
  },
  "orig_nbformat": 4,
  "vscode": {
   "interpreter": {
    "hash": "588c4d5d0abde81a8ebfffdc736a46bcad9c5b92be7be13fb4e3cb13087ce002"
   }
  }
 },
 "nbformat": 4,
 "nbformat_minor": 2
}
