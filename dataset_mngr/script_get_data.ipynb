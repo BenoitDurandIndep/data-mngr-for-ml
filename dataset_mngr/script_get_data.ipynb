{
 "cells": [
  {
   "cell_type": "markdown",
   "metadata": {},
   "source": [
    "Script to get data from AlphaVantage from a list of symbols in a file\n",
    "Unknown symbols are listed in a file and I use the AlphaVatage search function to find them"
   ]
  },
  {
   "cell_type": "code",
   "execution_count": null,
   "metadata": {},
   "outputs": [],
   "source": [
    "from importlib import reload\n",
    "import pandas as pd\n",
    "import numpy as np\n",
    "import time\n",
    "from pathlib import Path\n",
    "import matplotlib.pyplot as plt\n",
    "import get_data_alphavantage\n",
    "reload(get_data_alphavantage)\n",
    "from get_data_alphavantage import GetDataAlphaVantage\n"
   ]
  },
  {
   "cell_type": "code",
   "execution_count": null,
   "metadata": {},
   "outputs": [],
   "source": [
    "PATH_DATA = \"../../Data/\""
   ]
  },
  {
   "cell_type": "markdown",
   "metadata": {},
   "source": [
    "Load n files with the list of stocks symbols"
   ]
  },
  {
   "cell_type": "code",
   "execution_count": null,
   "metadata": {},
   "outputs": [],
   "source": [
    "PATH_DATA = \"../../Data/\"\n",
    "pd.DataFrame()\n",
    "\n",
    "for i in range(1, 10):\n",
    "    path_csv = PATH_DATA+\"top_actions_paris_\"+str(i)+\".csv\"\n",
    "    if i == 1:\n",
    "        df_paris = pd.read_csv(path_csv, sep=\",\")\n",
    "    else:\n",
    "        df_paris=pd.concat([df_paris,pd.read_csv(path_csv, sep=\",\")],sort=False)\n",
    "        \n",
    "\n",
    "df_paris.describe()"
   ]
  },
  {
   "cell_type": "code",
   "execution_count": null,
   "metadata": {},
   "outputs": [],
   "source": [
    "df_paris.to_hdf(PATH_DATA+\"list_paris_stocks.hdf\",key=\"Nom\")\n",
    "df_paris.to_csv(PATH_DATA+\"list_paris_stocks.csv\",sep=\",\")"
   ]
  },
  {
   "cell_type": "code",
   "execution_count": null,
   "metadata": {},
   "outputs": [],
   "source": [
    "df_paris= pd.read_csv(PATH_DATA+\"list_paris_stocks_comp.csv\", sep=\",\")"
   ]
  },
  {
   "cell_type": "code",
   "execution_count": null,
   "metadata": {},
   "outputs": [],
   "source": [
    "get_data_alpha = GetDataAlphaVantage()"
   ]
  },
  {
   "cell_type": "markdown",
   "metadata": {},
   "source": [
    "For each row try to request get data from alpha with symbol if not log an error have a break of 15 s between each try\n",
    "Batch of n symbols because of connexion loss"
   ]
  },
  {
   "cell_type": "code",
   "execution_count": null,
   "metadata": {},
   "outputs": [],
   "source": [
    "list_err = []\n",
    "group = 4\n",
    "group_size = 40\n",
    "limit = (1+group)*group_size\n",
    "if limit > len(df_paris.index):\n",
    "    limit = len(df_paris.index)\n",
    "\n",
    "for i in range(group*group_size, limit):\n",
    "    symb = df_paris.iloc[i][\"Symbole\"]\n",
    "    path_w_csv = PATH_DATA+\"dl_alpha/\"+symb+\"_1w.csv\"\n",
    "    if \".PAR\" not in symb:\n",
    "        symb = symb+\".PAR\"\n",
    "    print(f\"Try {symb}\")\n",
    "    try:\n",
    "        data_1w, meta = get_data_alpha.get_stock(\n",
    "            symbol=symb, interval=\"1w\", adjusted=True)\n",
    "        data_1w = pd.DataFrame(data_1w)\n",
    "        data_1w.to_csv(path_or_buf=path_w_csv, sep=\",\")\n",
    "    except ValueError:\n",
    "        print(f\"ERROR  requesting for {symb} \")\n",
    "        list_err.append([symb, df_paris.iloc[i][\"Nom\"]])\n",
    "    time.sleep(15)\n",
    "\n",
    "df_list_err = pd.DataFrame(list_err, columns=[\"Symbol Error\", \"Symbol Name\"])\n",
    "pd.DataFrame(df_list_err).to_csv(\n",
    "    path_or_buf=PATH_DATA+\"dl_alpha/symbol_err_\"+str(group)+\".csv\", sep=\",\")\n"
   ]
  },
  {
   "cell_type": "markdown",
   "metadata": {},
   "source": [
    "Concat of files with symbols in error"
   ]
  },
  {
   "cell_type": "code",
   "execution_count": null,
   "metadata": {},
   "outputs": [],
   "source": [
    "for i in range(0, 9):\n",
    "    path_csv = PATH_DATA+\"dl_alpha/symbol_err_\"+str(i)+\".csv\"\n",
    "    if i == 1:\n",
    "        df_err_symb = pd.read_csv(path_csv, sep=\",\")\n",
    "    else:\n",
    "        df_err_symb=pd.concat([df_err_symb,pd.read_csv(path_csv, sep=\",\")],sort=False)\n",
    "        #df_paris.append(pd.read_csv(path_csv, sep=\",\"))\n",
    "\n",
    "df_err_symb.to_csv(path_or_buf=PATH_DATA+\"dl_alpha/symbol_err_full.csv\", sep=\",\")\n",
    "df_err_symb.describe()"
   ]
  },
  {
   "cell_type": "markdown",
   "metadata": {},
   "source": [
    "Check if we have every symbol in the downloaded files or in the err file"
   ]
  },
  {
   "cell_type": "code",
   "execution_count": null,
   "metadata": {},
   "outputs": [],
   "source": [
    "dir_base = Path(PATH_DATA+\"dl_alpha\")\n",
    "list_ok = []\n",
    "for f in dir_base.iterdir():\n",
    "    if f.is_file() and \"PAR_1w.csv\" in f.name:\n",
    "        # f.rename(dir_base/f.name.replace(\".PAR_1w\",\"_PAR_1w\"))\n",
    "        list_ok.append(f.name.replace(\"_PAR_1w.csv\", \"\"))\n",
    "df_list_ok = pd.DataFrame(list_ok, columns=[\"Symbol OK\"])\n",
    "\n",
    "# df_err_symb[\"Symbol Clean\"]=df_err_symb[\"Symbol Error\"].replace(\".PAR\",\"\")\n",
    "# df_err_symb[\"Symbol Clean\"]\n",
    "# df_err_symb.replace(to_replace=\".PAR\",value=\"\",inplace=True,regex=True)\n",
    "df_merge=df_paris.merge(df_err_symb, on=[\"Symbole\"],how=\"left\",indicator=True)\n",
    " df_err_symb=pd.read_csv(PATH_DATA+\"dl_alpha/symbol_err_full.csv\", sep=\",\")\n",
    "df_err_symb.head()\n"
   ]
  },
  {
   "cell_type": "markdown",
   "metadata": {},
   "source": [
    "call the search service to try to find the symbol\n",
    "still use batch"
   ]
  },
  {
   "cell_type": "code",
   "execution_count": null,
   "metadata": {},
   "outputs": [],
   "source": [
    "df_res = pd.DataFrame()\n",
    "df_err = pd.DataFrame()\n",
    "group = 5\n",
    "group_size = 40\n",
    "limit = (1+group)*group_size\n",
    "if limit > len(df_err_symb.index):\n",
    "    limit = len(df_err_symb.index)\n",
    "\n",
    "for i in range(group*group_size, limit):\n",
    "    try:\n",
    "        symb_name = df_err_symb.iloc[i][\"Symbol Name\"]\n",
    "        print(f\"Try : {symb_name}\")\n",
    "        df_tmp_symb, meta = get_data_alpha.search_symbol(keyword=symb_name)\n",
    "        if len(df_tmp_symb.index) > 0:\n",
    "            df_res = pd.concat([df_res, df_tmp_symb.iloc[[0]]])\n",
    "        else:\n",
    "            df_err = pd.concat([df_err, df_err_symb.iloc[[i]]])\n",
    "\n",
    "    except (ValueError,KeyError):\n",
    "        df_err = pd.concat([df_err, df_err_symb.iloc[[i]]])\n",
    "    time.sleep(15)\n",
    "\n",
    "df_res.to_csv(path_or_buf=PATH_DATA+\"dl_alpha/symbol_found_\" +\n",
    "              str(group)+\".csv\", sep=\",\")\n",
    "df_err.to_csv(path_or_buf=PATH_DATA +\n",
    "              \"dl_alpha/symbol_not_found_\"+str(group)+\".csv\", sep=\",\")\n"
   ]
  },
  {
   "cell_type": "code",
   "execution_count": null,
   "metadata": {},
   "outputs": [],
   "source": [
    "df_TTE_w = pd.read_csv(PATH_DATA+\"dl_alpha/1w_adj/TTE.PAR_1w.csv\", sep=\",\",index_col=\"date\", parse_dates=True)\n",
    "df_ATO_w = pd.read_csv(PATH_DATA+\"dl_alpha/1w_adj/ATO.PAR_1w.csv\", sep=\",\",index_col=\"date\", parse_dates=True)\n",
    "print(df_TTE_w.head())\n",
    "df_TTE_w.describe()"
   ]
  },
  {
   "cell_type": "code",
   "execution_count": null,
   "metadata": {},
   "outputs": [],
   "source": [
    "plt.plot(df_TTE_w[\"5. adjusted close\"], label=\"TTE\")\n",
    "#df_TTE_w[\"5. adjusted close\"].plot()\n",
    "plt.show()"
   ]
  },
  {
   "cell_type": "code",
   "execution_count": null,
   "metadata": {},
   "outputs": [],
   "source": [
    "df_TTE_w[\"Symbol\"]=\"TTE\"\n",
    "df_ATO_w[\"Symbol\"]=\"ATO\"\n",
    "df_union_1w=pd.concat([df_TTE_w,df_ATO_w])\n",
    "df_union_1w.head()"
   ]
  },
  {
   "cell_type": "code",
   "execution_count": null,
   "metadata": {},
   "outputs": [],
   "source": [
    "#plt.plot(df_union_1w[\"5. adjusted close\"])\n",
    "\n",
    "#plt.show()\n",
    "#df_union_1w.head()\n",
    "df_union_1w.plot(y=\"5. adjusted close\")"
   ]
  }
 ],
 "metadata": {
  "kernelspec": {
   "display_name": "Python 3.10.5 ('.env': venv)",
   "language": "python",
   "name": "python3"
  },
  "language_info": {
   "codemirror_mode": {
    "name": "ipython",
    "version": 3
   },
   "file_extension": ".py",
   "mimetype": "text/x-python",
   "name": "python",
   "nbconvert_exporter": "python",
   "pygments_lexer": "ipython3",
   "version": "3.10.5"
  },
  "orig_nbformat": 4,
  "vscode": {
   "interpreter": {
    "hash": "a2896e4ce5f23ddda08fd9b416c5d713c4b6b1cabb7e607259e381c0ed43c6e3"
   }
  }
 },
 "nbformat": 4,
 "nbformat_minor": 2
}
