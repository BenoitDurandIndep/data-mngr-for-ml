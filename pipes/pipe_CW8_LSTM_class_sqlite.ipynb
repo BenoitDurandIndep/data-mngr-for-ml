{
 "cells": [
  {
   "cell_type": "code",
   "execution_count": 1,
   "metadata": {},
   "outputs": [],
   "source": [
    "import pandas as pd\n",
    "import numpy as np\n",
    "import yfinance as yf\n",
    "from datetime import datetime as dt, timedelta\n",
    "from keras.models import load_model\n",
    "\n",
    "import sqlite_io as sio\n",
    "import model_mngr as modmgr\n",
    "import add_indicators as indic\n",
    "import split_merge as sm\n",
    "import joblib\n"
   ]
  },
  {
   "cell_type": "markdown",
   "metadata": {},
   "source": [
    "SET VARIABLES"
   ]
  },
  {
   "cell_type": "code",
   "execution_count": 2,
   "metadata": {},
   "outputs": [],
   "source": [
    "PATH_MODEL = \"../../Data/Models/\"\n",
    "PATH_DB_CW8=\"C:\\Projets\\Data\\sqlite\\candle_CW8.db\"\n",
    "PATH_DB_FWK=\"C:\\Projets\\Data\\sqlite\\dataset_market.db\"\n",
    "\n",
    "symb = \"CW8\"\n",
    "model_type= \"LSTM_CLASS\"\n",
    "dts_name = \"DCA_CLOSE_1D_21D_V1\"\n",
    "lab_studied = \"lab_perf_21d\"\n",
    "update = \"202310\"\n",
    "timeframe=1440 #1D=1440\n",
    "delta_date=3 #nb days added to the last_date\n",
    "seq_len=20 \n",
    "file_name=symb+\"_\"+model_type+\"_\"+dts_name+\"_\"+update+\".h5\"\n",
    "scaler_name=symb+\"_\"+model_type+\"_\"+dts_name+\"_\"+update+\"_scaler.save\""
   ]
  },
  {
   "cell_type": "markdown",
   "metadata": {},
   "source": [
    "Connexion and symbol info"
   ]
  },
  {
   "cell_type": "code",
   "execution_count": 3,
   "metadata": {},
   "outputs": [
    {
     "name": "stdout",
     "output_type": "stream",
     "text": [
      "type(dt_last_candle)=<class 'pandas._libs.tslibs.timestamps.Timestamp'> -- dt_last_candle=Timestamp('2023-12-04 00:00:00')\n",
      " symb_yf='CW8.PA' dt_last_candle=Timestamp('2023-12-04 00:00:00') dt_delta=Timestamp('2023-12-01 00:00:00')\n"
     ]
    }
   ],
   "source": [
    "if \"con_cw8\" in locals():\n",
    "        sio.close_connection(con_cw8)\n",
    "con_cw8 = sio.get_connection(str_db_path=PATH_DB_CW8)\n",
    "\n",
    "if \"con_fwk\" in locals():\n",
    "        sio.close_connection(con_fwk)\n",
    "con_fwk = sio.get_connection(str_db_path=PATH_DB_FWK)\n",
    "\n",
    "symb_info=sio.get_symbol_info(symbol=symb)\n",
    "symb_yf=symb_info.CODE_YAHOO.iloc[0]#select first line\n",
    "\n",
    "dt_last_candle=sio.get_last_candle_date(con=con_cw8, symbol=symb,timeframe=timeframe) \n",
    "# print(f\"{type(dt_last_candle)=} -- {dt_last_candle=}\")\n",
    "dt_delta=dt_last_candle-timedelta(days=delta_date)\n",
    "print(f\" {symb_yf=} {dt_last_candle=} {dt_delta=}\")"
   ]
  },
  {
   "cell_type": "markdown",
   "metadata": {},
   "source": [
    "Get Yahoo Data and check last months"
   ]
  },
  {
   "cell_type": "code",
   "execution_count": 4,
   "metadata": {},
   "outputs": [
    {
     "name": "stdout",
     "output_type": "stream",
     "text": [
      "         NB          MIN(OPEN_DATETIME)          MAX(OPEN_DATETIME)  \\\n",
      "MONTH                                                                 \n",
      "2023-12   2  2023-12-01 00:00:00.000000  2023-12-04 00:00:00.000000   \n",
      "2023-11  26         2023-11-01 00:00:00  2023-11-30 00:00:00.000000   \n",
      "2023-10  22         2023-10-02 00:00:00         2023-10-31 00:00:00   \n",
      "2023-09  21         2023-09-01 00:00:00         2023-09-29 00:00:00   \n",
      "2023-08  23         2023-08-01 00:00:00         2023-08-31 00:00:00   \n",
      "\n",
      "         MIN(CLOSE)  MAX(CLOSE)  \n",
      "MONTH                            \n",
      "2023-12  437.289795  438.069397  \n",
      "2023-11  414.119385  433.976501  \n",
      "2023-10  405.379913  429.454407  \n",
      "2023-09  421.415100  436.457703  \n",
      "2023-08  415.574707  433.315796  \n"
     ]
    }
   ],
   "source": [
    "ticker_yf = yf.Ticker(symb_yf)\n",
    "hist_yf = ticker_yf.history(start=dt_delta,period=\"1d\")\n",
    "\n",
    "hist_yf['Adj Close']=hist_yf['Close']\n",
    "res=sio.load_yahoo_df_into_sql(con=con_cw8, df_yahoo=hist_yf, symbol=symb, timeframe=timeframe, del_duplicate=True)\n",
    "\n",
    "print(sio.check_candles_last_months(con=con_cw8, symbol=symb, timeframe=timeframe))"
   ]
  },
  {
   "cell_type": "markdown",
   "metadata": {},
   "source": [
    "Get last year of data and add indicators"
   ]
  },
  {
   "cell_type": "code",
   "execution_count": 7,
   "metadata": {},
   "outputs": [
    {
     "name": "stdout",
     "output_type": "stream",
     "text": [
      "df.shape=(263, 2) df_indic.shape=(263, 48) df_clean.shape=(64, 23)\n"
     ]
    }
   ],
   "source": [
    "df = sio.get_candles_to_df(con=con_cw8, symbol=symb,timeframe=timeframe, only_close=True,date_start=dt_delta-timedelta(days=365))\n",
    "df_indic = indic.add_indicators_to_df(con=con_fwk, df_in=df, dts_name=dts_name)\n",
    "df_indic.sort_index(inplace=True)\n",
    "\n",
    "df_clean = indic.drop_indicators_not_selected(con=con_fwk, df_in=df_indic, dts_name=dts_name, symbol=symb,label=lab_studied,algo=model_type,organize=True)\n",
    "\n",
    "df_clean = indic.drop_indicators_by_type(\n",
    "    con=con_fwk, df_in=df_clean, dts_name=dts_name, symbol=symb, ind_type=2) # drop of labels\n",
    "\n",
    "df_clean.dropna(axis=0,how='any',inplace=True)\n",
    "\n",
    "print(f\"{df.shape=} {df_indic.shape=} {df_clean.shape=}\")"
   ]
  },
  {
   "cell_type": "markdown",
   "metadata": {},
   "source": [
    "Normalisation and preparation"
   ]
  },
  {
   "cell_type": "code",
   "execution_count": 8,
   "metadata": {},
   "outputs": [
    {
     "name": "stdout",
     "output_type": "stream",
     "text": [
      "       pos_top20  pos_bb20_lo  pos_rsi14_sma20     ret_5d  pos_sma20_50  \\\n",
      "count  64.000000    64.000000        64.000000  64.000000     64.000000   \n",
      "mean    0.881975    -0.343071        -0.022330   0.186633      0.403394   \n",
      "std     0.105329     0.175912         0.288317   0.113406      0.085371   \n",
      "min     0.635901    -0.610885        -0.519386  -0.071388      0.287227   \n",
      "25%     0.796994    -0.515000        -0.302758   0.113507      0.323878   \n",
      "50%     0.915744    -0.347621         0.040841   0.195051      0.406853   \n",
      "75%     0.972515    -0.203910         0.234720   0.258552      0.473186   \n",
      "max     1.000000    -0.011783         0.451969   0.449114      0.571006   \n",
      "\n",
      "       pos_top_200  stdev20_sma20  pos_sma200  pos_bot20  pos_bot_200  ...  \\\n",
      "count    64.000000      64.000000   64.000000  64.000000    64.000000  ...   \n",
      "mean      0.845375      -0.596411    0.251315  -0.773029    -0.505495  ...   \n",
      "std       0.105081       0.082262    0.084874   0.177318     0.093817  ...   \n",
      "min       0.576370      -0.679427    0.033738  -1.000000    -0.745781  ...   \n",
      "25%       0.794290      -0.664654    0.207849  -0.951059    -0.544596  ...   \n",
      "50%       0.857707      -0.644766    0.269350  -0.784923    -0.484966  ...   \n",
      "75%       0.930652      -0.532918    0.294503  -0.639692    -0.455932  ...   \n",
      "max       1.000000      -0.430943    0.432693  -0.418091    -0.327593  ...   \n",
      "\n",
      "       sma20_rsi14     ret_1d  pos_top50  pos_rsi14_sma5  aroon14_up  \\\n",
      "count    64.000000  64.000000  64.000000       64.000000   64.000000   \n",
      "mean     -0.023502   0.005798   0.851161       -0.024549    0.168269   \n",
      "std       0.227838   0.080348   0.111000        0.280021    0.717278   \n",
      "min      -0.335866  -0.215268   0.576370       -0.655690   -1.000000   \n",
      "25%      -0.226311  -0.039637   0.794290       -0.168616   -0.423077   \n",
      "50%      -0.088127   0.001760   0.857707       -0.037929    0.307692   \n",
      "75%       0.197790   0.059436   0.949567        0.113104    0.846154   \n",
      "max       0.393456   0.183537   1.000000        0.770256    1.000000   \n",
      "\n",
      "       stdev20_sma5  stdev20_1d      rsi14  pos_sma50_200  pos_stdev20_sma5  \n",
      "count     64.000000   64.000000  64.000000      64.000000         64.000000  \n",
      "mean      -0.660099   -0.209340   0.069005       0.130273         -0.289458  \n",
      "std        0.099244    0.135510   0.320355       0.090913          0.195515  \n",
      "min       -0.830370   -0.496354  -0.562449       0.013255         -0.738734  \n",
      "25%       -0.744385   -0.313926  -0.182629       0.042622         -0.462434  \n",
      "50%       -0.665063   -0.196935   0.168675       0.119453         -0.263091  \n",
      "75%       -0.559965   -0.132713   0.325790       0.219689         -0.156395  \n",
      "max       -0.501538    0.096459   0.596390       0.265692          0.038820  \n",
      "\n",
      "[8 rows x 23 columns]\n",
      "df_norm=                            pos_top20  pos_bb20_lo  pos_rsi14_sma20    ret_5d  \\\n",
      "OPEN_DATETIME                                                                   \n",
      "2023-09-12 00:00:00          0.950109    -0.240581         0.094729  0.132909   \n",
      "2023-09-13 00:00:00          0.948455    -0.252251         0.066380  0.183241   \n",
      "2023-09-14 00:00:00          1.000000    -0.158063         0.244549  0.276303   \n",
      "2023-09-15 00:00:00          0.973424    -0.230887         0.089252  0.234453   \n",
      "2023-09-18 00:00:00          0.942879    -0.317106        -0.058055  0.207673   \n",
      "...                               ...          ...              ...       ...   \n",
      "2023-11-29 00:00:00.000000   0.967714    -0.401407        -0.045882  0.176122   \n",
      "2023-11-30 00:00:00          1.000000    -0.362104         0.054654  0.214644   \n",
      "2023-11-30 00:00:00.000000   0.985300    -0.407930        -0.025831  0.213934   \n",
      "2023-12-01 00:00:00.000000   1.000000    -0.313499         0.134265  0.289110   \n",
      "2023-12-04 00:00:00.000000   0.988441    -0.352025         0.066343  0.269506   \n",
      "\n",
      "                            pos_sma20_50  pos_top_200  stdev20_sma20  \\\n",
      "OPEN_DATETIME                                                          \n",
      "2023-09-12 00:00:00             0.426817     0.950702      -0.662114   \n",
      "2023-09-13 00:00:00             0.434450     0.949189      -0.653708   \n",
      "2023-09-14 00:00:00             0.445546     1.000000      -0.646453   \n",
      "2023-09-15 00:00:00             0.459119     0.975656      -0.643706   \n",
      "2023-09-18 00:00:00             0.470275     0.947676      -0.645825   \n",
      "...                                  ...          ...            ...   \n",
      "2023-11-29 00:00:00.000000      0.540468     0.930652      -0.515381   \n",
      "2023-11-30 00:00:00             0.546083     0.966178      -0.533501   \n",
      "2023-11-30 00:00:00.000000      0.553138     0.952789      -0.552567   \n",
      "2023-12-01 00:00:00.000000      0.561582     1.000000      -0.569737   \n",
      "2023-12-04 00:00:00.000000      0.571006     0.989412      -0.587040   \n",
      "\n",
      "                            pos_sma200  pos_bot20  pos_bot_200  ...  \\\n",
      "OPEN_DATETIME                                                   ...   \n",
      "2023-09-12 00:00:00           0.378896  -0.685628    -0.385707  ...   \n",
      "2023-09-13 00:00:00           0.376053  -0.687860    -0.386921  ...   \n",
      "2023-09-14 00:00:00           0.432693  -0.578833    -0.327593  ...   \n",
      "2023-09-15 00:00:00           0.411160  -0.621386    -0.347192  ...   \n",
      "2023-09-18 00:00:00           0.386560  -0.744705    -0.369719  ...   \n",
      "...                                ...        ...          ...  ...   \n",
      "2023-11-29 00:00:00.000000    0.271956  -0.821057    -0.465489  ...   \n",
      "2023-11-30 00:00:00           0.297626  -0.769338    -0.437383  ...   \n",
      "2023-11-30 00:00:00.000000    0.285169  -0.807522    -0.447975  ...   \n",
      "2023-12-01 00:00:00.000000    0.336734  -0.707029    -0.393243  ...   \n",
      "2023-12-04 00:00:00.000000    0.326232  -0.775080    -0.401650  ...   \n",
      "\n",
      "                            sma20_rsi14    ret_1d  pos_top50  pos_rsi14_sma5  \\\n",
      "OPEN_DATETIME                                                                  \n",
      "2023-09-12 00:00:00            0.067267  0.010655   0.950702       -0.027675   \n",
      "2023-09-13 00:00:00            0.093240 -0.000376   0.949189       -0.034503   \n",
      "2023-09-14 00:00:00            0.142818  0.154889   1.000000        0.212416   \n",
      "2023-09-15 00:00:00            0.192548 -0.046905   0.975656        0.011599   \n",
      "2023-09-18 00:00:00            0.232065 -0.054554   0.947676       -0.164313   \n",
      "...                                 ...       ...        ...             ...   \n",
      "2023-11-29 00:00:00.000000     0.317350  0.002737   0.970426       -0.035783   \n",
      "2023-11-30 00:00:00            0.333119  0.076036   1.000000        0.117063   \n",
      "2023-11-30 00:00:00.000000     0.347144 -0.024722   0.986535       -0.018385   \n",
      "2023-12-01 00:00:00.000000     0.370961  0.144938   1.000000        0.182051   \n",
      "2023-12-04 00:00:00.000000     0.393456 -0.018854   0.989412        0.046648   \n",
      "\n",
      "                            aroon14_up  stdev20_sma5  stdev20_1d     rsi14  \\\n",
      "OPEN_DATETIME                                                                \n",
      "2023-09-12 00:00:00           0.230769     -0.657310   -0.175637  0.276952   \n",
      "2023-09-13 00:00:00           0.076923     -0.651278   -0.193188  0.268426   \n",
      "2023-09-14 00:00:00           1.000000     -0.645424   -0.163620  0.514886   \n",
      "2023-09-15 00:00:00           0.846154     -0.647201   -0.321982  0.381501   \n",
      "2023-09-18 00:00:00           0.692308     -0.660012   -0.414657  0.240460   \n",
      "...                                ...           ...         ...       ...   \n",
      "2023-11-29 00:00:00.000000   -0.230769     -0.768026   -0.365714  0.323454   \n",
      "2023-11-30 00:00:00           1.000000     -0.791180   -0.231277  0.462169   \n",
      "2023-11-30 00:00:00.000000    0.846154     -0.808151   -0.395774  0.372676   \n",
      "2023-12-01 00:00:00.000000    1.000000     -0.819035   -0.097659  0.596390   \n",
      "2023-12-04 00:00:00.000000    0.846154     -0.830370   -0.315604  0.529254   \n",
      "\n",
      "                            pos_sma50_200  pos_stdev20_sma5  \n",
      "OPEN_DATETIME                                                \n",
      "2023-09-12 00:00:00              0.255865         -0.211307  \n",
      "2023-09-13 00:00:00              0.255312         -0.233682  \n",
      "2023-09-14 00:00:00              0.259092         -0.229001  \n",
      "2023-09-15 00:00:00              0.262002         -0.334477  \n",
      "2023-09-18 00:00:00              0.264364         -0.472490  \n",
      "...                                   ...               ...  \n",
      "2023-11-29 00:00:00.000000       0.013255         -0.519783  \n",
      "2023-11-30 00:00:00              0.014628         -0.429803  \n",
      "2023-11-30 00:00:00.000000       0.015069         -0.495023  \n",
      "2023-12-01 00:00:00.000000       0.017035         -0.356070  \n",
      "2023-12-04 00:00:00.000000       0.018328         -0.380397  \n",
      "\n",
      "[64 rows x 23 columns] x_eval_lstm.shape=(45, 20, 23) df_predict.shape=(45, 23)\n"
     ]
    }
   ],
   "source": [
    "scaler = joblib.load(filename=PATH_MODEL + scaler_name)\n",
    "df_norm= pd.DataFrame(scaler.transform(df_clean), columns=df_clean.columns, index=df_clean.index)\n",
    "\n",
    "print(df_norm.describe())\n",
    "\n",
    "x_eval_lstm,df_predict = sm.prepare_sequences_with_df(df_in=df_norm,sequence_length=seq_len)\n",
    "print(f\"{df_norm=} {x_eval_lstm.shape=} {df_predict.shape=}\")"
   ]
  },
  {
   "cell_type": "markdown",
   "metadata": {},
   "source": [
    "Load model, score and print last N days"
   ]
  },
  {
   "cell_type": "code",
   "execution_count": 9,
   "metadata": {},
   "outputs": [
    {
     "name": "stdout",
     "output_type": "stream",
     "text": [
      "2/2 [==============================] - 1s 5ms/step\n",
      "2023-11-13 00:00:00           1.0\n",
      "2023-11-14 00:00:00           1.0\n",
      "2023-11-15 00:00:00           1.0\n",
      "2023-11-16 00:00:00           4.0\n",
      "2023-11-17 00:00:00           4.0\n",
      "2023-11-20 00:00:00           0.0\n",
      "2023-11-21 00:00:00           0.0\n",
      "2023-11-22 00:00:00           1.0\n",
      "2023-11-23 00:00:00           3.0\n",
      "2023-11-24 00:00:00           3.0\n",
      "2023-11-27 00:00:00           1.0\n",
      "2023-11-27 00:00:00.000000    1.0\n",
      "2023-11-28 00:00:00           2.0\n",
      "2023-11-28 00:00:00.000000    3.0\n",
      "2023-11-29 00:00:00           3.0\n",
      "2023-11-29 00:00:00.000000    3.0\n",
      "2023-11-30 00:00:00           3.0\n",
      "2023-11-30 00:00:00.000000    3.0\n",
      "2023-12-01 00:00:00.000000    3.0\n",
      "2023-12-04 00:00:00.000000    3.0\n",
      "Name: predict_score, dtype: float64\n"
     ]
    }
   ],
   "source": [
    "saved_model = load_model(PATH_MODEL+file_name)\n",
    "arr_res = saved_model.predict(x_eval_lstm)\n",
    "\n",
    "df_predict[\"predict_score\"] = np.concatenate([np.array([np.nan] * (df_predict.shape[0] - len(arr_res))), np.argmax(arr_res, axis=1)]) \n",
    "\n",
    "print(df_predict[\"predict_score\"][-20:])"
   ]
  }
 ],
 "metadata": {
  "kernelspec": {
   "display_name": ".env",
   "language": "python",
   "name": "python3"
  },
  "language_info": {
   "codemirror_mode": {
    "name": "ipython",
    "version": 3
   },
   "file_extension": ".py",
   "mimetype": "text/x-python",
   "name": "python",
   "nbconvert_exporter": "python",
   "pygments_lexer": "ipython3",
   "version": "3.10.5"
  }
 },
 "nbformat": 4,
 "nbformat_minor": 2
}
