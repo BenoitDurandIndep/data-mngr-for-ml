{
 "cells": [
  {
   "cell_type": "code",
   "execution_count": null,
   "metadata": {},
   "outputs": [],
   "source": [
    "import pandas as pd\n",
    "import numpy as np\n",
    "import yfinance as yf\n",
    "from datetime import datetime as dt, timedelta\n",
    "from keras.models import load_model\n",
    "\n",
    "import maria_import_export as maria\n",
    "import model_mngr as modmgr\n",
    "import add_indicators as indic\n",
    "import split_merge as sm\n",
    "import joblib\n"
   ]
  },
  {
   "cell_type": "markdown",
   "metadata": {},
   "source": [
    "SET VARIABLES"
   ]
  },
  {
   "cell_type": "code",
   "execution_count": null,
   "metadata": {},
   "outputs": [],
   "source": [
    "PATH_MODEL = \"../../Data/Models/\"\n",
    "\n",
    "symb = \"CW8\"\n",
    "model_type= \"LSTM_CLASS\"\n",
    "dts_name = \"DCA_CLOSE_1D_21D_V1\"\n",
    "lab_studied = \"lab_perf_21d\"\n",
    "update = \"202310\"\n",
    "timeframe=1440 #1D=1440\n",
    "delta_date=3 #nb days added to the last_date\n",
    "seq_len=20 \n",
    "file_name=symb+\"_\"+model_type+\"_\"+dts_name+\"_\"+update+\".h5\"\n",
    "scaler_name=symb+\"_\"+model_type+\"_\"+dts_name+\"_\"+update+\"_scaler.save\""
   ]
  },
  {
   "cell_type": "markdown",
   "metadata": {},
   "source": [
    "Connexion and symbol info"
   ]
  },
  {
   "cell_type": "code",
   "execution_count": null,
   "metadata": {},
   "outputs": [],
   "source": [
    "if \"con\" in locals():\n",
    "        maria.close_connection(con)\n",
    "con = maria.get_connection()\n",
    "\n",
    "symb_info=maria.get_symbol_info(con=con, symbol=symb)\n",
    "symb_yf=symb_info.CODE_YAHOO.iloc[0]#select first line\n",
    "\n",
    "dt_last_candle=maria.get_last_candle_date(con=con, symbol=symb,timeframe=timeframe) \n",
    "dt_delta=dt_last_candle-timedelta(days=delta_date)\n",
    "print(f\" {symb_yf=} {dt_last_candle=} {dt_delta=}\")"
   ]
  },
  {
   "cell_type": "markdown",
   "metadata": {},
   "source": [
    "Get Yahoo Data and check last months"
   ]
  },
  {
   "cell_type": "code",
   "execution_count": null,
   "metadata": {},
   "outputs": [],
   "source": [
    "ticker_yf = yf.Ticker(symb_yf)\n",
    "hist_yf = ticker_yf.history(start=dt_delta,period=\"1d\")\n",
    "\n",
    "hist_yf['Adj Close']=hist_yf['Close']\n",
    "res=maria.load_yahoo_df_into_sql(con=con, df_yahoo=hist_yf, symbol=symb, timeframe=timeframe, del_duplicate=True)\n",
    "\n",
    "print(maria.check_candles_last_months(con=con, symbol=symb, timeframe=timeframe))"
   ]
  },
  {
   "cell_type": "markdown",
   "metadata": {},
   "source": [
    "Get last year of data and add indicators"
   ]
  },
  {
   "cell_type": "code",
   "execution_count": null,
   "metadata": {},
   "outputs": [],
   "source": [
    "df = maria.get_candles_to_df(con=con, symbol=symb,timeframe=timeframe, only_close=True,date_start=dt_delta-timedelta(days=365))\n",
    "df_indic = indic.add_indicators_to_df(con=con, df_in=df, dts_name=dts_name)\n",
    "df_indic.sort_index(inplace=True)\n",
    "\n",
    "df_clean = indic.drop_indicators_not_selected(con=con, df_in=df_indic, dts_name=dts_name, symbol=symb,label=lab_studied,algo=model_type,organize=True)\n",
    "\n",
    "df_clean = indic.drop_indicators_by_type(\n",
    "    con=con, df_in=df_clean, dts_name=dts_name, symbol=symb, ind_type=2) # drop of labels\n",
    "\n",
    "df_clean.dropna(axis=0,how='any',inplace=True)\n",
    "\n",
    "print(f\"{df.shape=} {df_indic.shape=} {df_clean.shape=}\")"
   ]
  },
  {
   "cell_type": "markdown",
   "metadata": {},
   "source": [
    "Normalisation and preparation"
   ]
  },
  {
   "cell_type": "code",
   "execution_count": null,
   "metadata": {},
   "outputs": [],
   "source": [
    "scaler = joblib.load(filename=PATH_MODEL + scaler_name)\n",
    "df_norm= pd.DataFrame(scaler.transform(df_clean), columns=df_clean.columns, index=df_clean.index)\n",
    "\n",
    "print(df_norm.describe())\n",
    "\n",
    "x_eval_lstm,df_predict = sm.prepare_sequences_with_df(df_in=df_norm,sequence_length=seq_len)\n",
    "print(f\"{df_norm=} {x_eval_lstm.shape=} {df_predict.shape=}\")"
   ]
  },
  {
   "cell_type": "markdown",
   "metadata": {},
   "source": [
    "Load model, score and print last N days"
   ]
  },
  {
   "cell_type": "code",
   "execution_count": null,
   "metadata": {},
   "outputs": [],
   "source": [
    "saved_model = load_model(PATH_MODEL+file_name)\n",
    "arr_res = saved_model.predict(x_eval_lstm)\n",
    "\n",
    "df_predict[\"predict_score\"] = np.concatenate([np.array([np.nan] * (df_predict.shape[0] - len(arr_res))), np.argmax(arr_res, axis=1)]) \n",
    "\n",
    "print(df_predict[\"predict_score\"][-20:])"
   ]
  }
 ],
 "metadata": {
  "kernelspec": {
   "display_name": ".env",
   "language": "python",
   "name": "python3"
  },
  "language_info": {
   "codemirror_mode": {
    "name": "ipython",
    "version": 3
   },
   "file_extension": ".py",
   "mimetype": "text/x-python",
   "name": "python",
   "nbconvert_exporter": "python",
   "pygments_lexer": "ipython3",
   "version": "3.10.5"
  }
 },
 "nbformat": 4,
 "nbformat_minor": 2
}
