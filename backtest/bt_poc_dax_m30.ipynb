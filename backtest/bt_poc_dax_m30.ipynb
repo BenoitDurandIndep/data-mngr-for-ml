{
 "cells": [
  {
   "cell_type": "markdown",
   "metadata": {},
   "source": [
    "Notebook to backtest with backtrader the ML scores built for the POC about the DAX in timeframe M30."
   ]
  },
  {
   "cell_type": "code",
   "execution_count": null,
   "metadata": {},
   "outputs": [],
   "source": [
    "from importlib import reload\n",
    "import pandas as pd\n",
    "import backtrader as bt\n",
    "import bt_ml_strategy\n",
    "from bt_ml_strategy import SignalData,BTMLStrategy\n",
    "reload(bt_ml_strategy)\n",
    "\n",
    "PATH_DATA_Quant = \"../../Data/dl_quant/\"\n",
    "\n"
   ]
  },
  {
   "cell_type": "code",
   "execution_count": null,
   "metadata": {},
   "outputs": [],
   "source": [
    "df_dax_m30 = pd.read_csv(PATH_DATA_Quant+\"DAX_M30_D1_with_predict.zip\", sep=\",\",\n",
    "                            index_col=\"Datetime\", parse_dates=True, keep_default_na=True, low_memory=False)"
   ]
  },
  {
   "cell_type": "code",
   "execution_count": null,
   "metadata": {},
   "outputs": [],
   "source": [
    "prices=df_dax_m30[['Open','High','Low','Close','Volume','meta_score_rf_xgb','m30_val_sl','m30_tp_3sl']]\n",
    "prices.rename(columns={'Open':'open','High':'high','Low':'low','Close':'close','Volume':'volume','m30_val_sl':'SL','m30_tp_3sl':'TP','meta_score_rf_xgb':'Predict'},inplace=True)\n",
    "prices=prices['2020-07-01 00:00:00':]\n",
    "prices.dropna(inplace=True)\n",
    "prices.sort_index(inplace=True)\n",
    "#prices.info()"
   ]
  },
  {
   "cell_type": "code",
   "execution_count": null,
   "metadata": {},
   "outputs": [],
   "source": [
    "data = SignalData(dataname=prices,timeframe=bt.TimeFrame.Minutes, compression=30)"
   ]
  },
  {
   "cell_type": "code",
   "execution_count": null,
   "metadata": {},
   "outputs": [],
   "source": [
    "cerebro = bt.Cerebro(cheat_on_open=True)\n",
    "cerebro.addstrategy(BTMLStrategy)\n",
    "cerebro.adddata(data)\n",
    "cerebro.broker.setcash(100000.0)\n",
    "cerebro.broker.setcommission(commission=0.002)\n",
    "cerebro.addanalyzer(bt.analyzers.PyFolio, _name=\"pyfolio\")\n",
    "\n",
    "print(f\"Starting portfolio:{cerebro.broker.getvalue()}\")\n",
    "backtest_result=cerebro.run()\n",
    "print(f\"Ending portfolio:{cerebro.broker.getvalue()}\")"
   ]
  }
 ],
 "metadata": {
  "kernelspec": {
   "display_name": "Python 3.10.5 ('.env': venv)",
   "language": "python",
   "name": "python3"
  },
  "language_info": {
   "codemirror_mode": {
    "name": "ipython",
    "version": 3
   },
   "file_extension": ".py",
   "mimetype": "text/x-python",
   "name": "python",
   "nbconvert_exporter": "python",
   "pygments_lexer": "ipython3",
   "version": "3.10.7"
  },
  "orig_nbformat": 4,
  "vscode": {
   "interpreter": {
    "hash": "a2896e4ce5f23ddda08fd9b416c5d713c4b6b1cabb7e607259e381c0ed43c6e3"
   }
  }
 },
 "nbformat": 4,
 "nbformat_minor": 2
}
