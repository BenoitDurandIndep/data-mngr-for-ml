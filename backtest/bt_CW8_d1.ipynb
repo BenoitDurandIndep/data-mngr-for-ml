{
 "cells": [
  {
   "attachments": {},
   "cell_type": "markdown",
   "metadata": {},
   "source": [
    "Notebook to backtest with backtrader the ML scores built for smart DCA on CW8"
   ]
  },
  {
   "cell_type": "code",
   "execution_count": 98,
   "metadata": {},
   "outputs": [],
   "source": [
    "from importlib import reload\n",
    "import pandas as pd\n",
    "import backtrader as bt\n",
    "import bt_ml_strategies as strat\n",
    "reload(strat)\n",
    "\n",
    "PATH_DATA_BT = \"../../Data/backtest/\"\n",
    "\n"
   ]
  },
  {
   "cell_type": "code",
   "execution_count": 123,
   "metadata": {},
   "outputs": [],
   "source": [
    "file_name=\"DCA_CLOSE_1D_21D_V1_lab_perf_21d_predict_lstm_v3_e_BT.zip\"\n",
    "df = pd.read_csv(PATH_DATA_BT+file_name, sep=\",\",\n",
    "                            index_col=\"OPEN_DATETIME\", parse_dates=True, keep_default_na=True, low_memory=False)"
   ]
  },
  {
   "cell_type": "code",
   "execution_count": null,
   "metadata": {},
   "outputs": [],
   "source": [
    "prices=df[['open','high','low','close','volume','Predict','SL','TP']]\n",
    "prices[['SL','TP']]=0\n",
    "prices=prices['2010-04-01 00:00:00':] #start date of the backtest\n",
    "prices.dropna(inplace=True)\n",
    "prices.sort_index(inplace=True)\n",
    "prices.info()"
   ]
  },
  {
   "cell_type": "code",
   "execution_count": 125,
   "metadata": {},
   "outputs": [],
   "source": [
    "data = strat.SignalData(dataname=prices,timeframe=bt.TimeFrame.Days)#, compression=30)"
   ]
  },
  {
   "cell_type": "code",
   "execution_count": null,
   "metadata": {},
   "outputs": [],
   "source": [
    "# Tune dca_params according your strategie\n",
    "# dca_params = {'score_buy': 0.00, 'score_sell': -10.005, 'size_buy': 2500, 'size_sell': 2500} # BACKTEST FOR TRUE DCA CW8 REGRESSION SCORE\n",
    "\n",
    "# dca_params = {'score_buy': 2.00, 'score_sell': 0.00, 'size_buy': 2500, 'size_sell': 2500} # BACKTEST FOR CW8 LSTM CLASSIFICATION SCORE SCENARIO 1\n",
    "# dca_params = {'score_buy': 2.00, 'score_sell': 0.50, 'size_buy': 2500, 'size_sell': 2500, 'reinvest_split':1} # BACKTEST FOR CW8 LSTM CLASSIFICATION SCORE SCENARIO 2\n",
    "# dca_params = {'score_buy': 3.00, 'score_sell': 0.00, 'size_buy': 2500, 'size_sell': 2500} # BACKTEST FOR CW8 LSTM CLASSIFICATION SCORE SCENARIO 3\n",
    "dca_params = {'score_buy': 1.00, 'score_sell': 0.00, 'size_buy': 2500, 'size_sell': 2500} # BACKTEST FOR CW8 LSTM CLASSIFICATION SCORE SCENARIO 4\n",
    "# dca_params = {'score_buy': 1.00, 'score_sell': 0.50, 'size_buy': 2500, 'size_sell': 2500, 'reinvest_split':1} # BACKTEST FOR CW8 LSTM CLASSIFICATION SCORE SCENARIO 5\n",
    "# dca_params = {'score_buy': 1.00, 'score_sell': 0.50, 'size_buy': 2500, 'size_sell': 2500, 'reinvest_split':2} # BACKTEST FOR CW8 LSTM CLASSIFICATION SCORE SCENARIO 6\n",
    "# dca_params = {'score_buy': 2.00, 'score_sell': 0.50, 'size_buy': 2500, 'size_sell': 2500, 'reinvest_split':2} # BACKTEST FOR CW8 LSTM CLASSIFICATION SCORE SCENARIO 7\n",
    "# dca_params = {'score_buy': 2.00, 'score_sell': 1.50, 'size_buy': 2500, 'size_sell': 2500, 'reinvest_split':1} # BACKTEST FOR CW8 LSTM CLASSIFICATION SCORE SCENARIO 8\n",
    "cerebro = bt.Cerebro(cheat_on_open=True)\n",
    "cerebro.addstrategy(strat.BtMlDcaStrategy,**dca_params)\n",
    "cerebro.adddata(data)\n",
    "cerebro.broker.setcash(1000000.0)\n",
    "cerebro.broker.setcommission(commission=0.05) #0.5% commission !\n",
    "cerebro.addanalyzer(bt.analyzers.PyFolio, _name=\"pyfolio\")\n",
    "\n",
    "print(f\"Starting portfolio:{cerebro.broker.getvalue()}\")\n",
    "backtest_result=cerebro.run()\n",
    "print(f\"Ending portfolio:{cerebro.broker.getvalue()}\")"
   ]
  }
 ],
 "metadata": {
  "kernelspec": {
   "display_name": ".env",
   "language": "python",
   "name": "python3"
  },
  "language_info": {
   "codemirror_mode": {
    "name": "ipython",
    "version": 3
   },
   "file_extension": ".py",
   "mimetype": "text/x-python",
   "name": "python",
   "nbconvert_exporter": "python",
   "pygments_lexer": "ipython3",
   "version": "3.10.5"
  },
  "orig_nbformat": 4,
  "vscode": {
   "interpreter": {
    "hash": "588c4d5d0abde81a8ebfffdc736a46bcad9c5b92be7be13fb4e3cb13087ce002"
   }
  }
 },
 "nbformat": 4,
 "nbformat_minor": 2
}
