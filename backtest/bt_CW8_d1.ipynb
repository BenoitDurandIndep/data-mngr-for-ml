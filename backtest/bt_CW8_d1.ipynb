{
 "cells": [
  {
   "attachments": {},
   "cell_type": "markdown",
   "metadata": {},
   "source": [
    "Notebook to backtest with backtrader the ML scores built for smart DCA on CW8"
   ]
  },
  {
   "cell_type": "code",
   "execution_count": null,
   "metadata": {},
   "outputs": [],
   "source": [
    "from importlib import reload\n",
    "import pandas as pd\n",
    "import backtrader as bt\n",
    "import bt_ml_strategies as strat\n",
    "reload(strat)\n",
    "\n",
    "PATH_DATA_BT = \"../../Data/backtest/\"\n",
    "\n"
   ]
  },
  {
   "cell_type": "code",
   "execution_count": null,
   "metadata": {},
   "outputs": [],
   "source": [
    "df = pd.read_csv(PATH_DATA_BT+\"DCA_CLOSE_1D_V1_lab_perf_21d_predict_BT.zip\", sep=\",\",\n",
    "                            index_col=\"OPEN_DATETIME\", parse_dates=True, keep_default_na=True, low_memory=False)"
   ]
  },
  {
   "cell_type": "code",
   "execution_count": null,
   "metadata": {},
   "outputs": [],
   "source": [
    "prices=df[['open','high','low','close','volume','Predict','SL','TP']]\n",
    "prices[['SL','TP']]=0\n",
    "prices=prices['2010-04-01 00:00:00':]\n",
    "prices.dropna(inplace=True)\n",
    "prices.sort_index(inplace=True)\n",
    "prices.info()"
   ]
  },
  {
   "cell_type": "code",
   "execution_count": null,
   "metadata": {},
   "outputs": [],
   "source": [
    "data = strat.SignalData(dataname=prices,timeframe=bt.TimeFrame.Days)#, compression=30)"
   ]
  },
  {
   "cell_type": "code",
   "execution_count": null,
   "metadata": {},
   "outputs": [],
   "source": [
    "dca_params = {'score_buy': 0.00, 'score_sell': -10.005, 'size_buy': 2500, 'size_sell': 2500}\n",
    "cerebro = bt.Cerebro(cheat_on_open=True)\n",
    "cerebro.addstrategy(strat.BtMlDcaStrategy,**dca_params)\n",
    "cerebro.adddata(data)\n",
    "cerebro.broker.setcash(1000000.0)\n",
    "cerebro.broker.setcommission(commission=0.0025)\n",
    "cerebro.addanalyzer(bt.analyzers.PyFolio, _name=\"pyfolio\")\n",
    "\n",
    "print(f\"Starting portfolio:{cerebro.broker.getvalue()}\")\n",
    "backtest_result=cerebro.run()\n",
    "print(f\"Ending portfolio:{cerebro.broker.getvalue()}\")"
   ]
  },
  {
   "cell_type": "code",
   "execution_count": null,
   "metadata": {},
   "outputs": [],
   "source": []
  }
 ],
 "metadata": {
  "kernelspec": {
   "display_name": ".env",
   "language": "python",
   "name": "python3"
  },
  "language_info": {
   "codemirror_mode": {
    "name": "ipython",
    "version": 3
   },
   "file_extension": ".py",
   "mimetype": "text/x-python",
   "name": "python",
   "nbconvert_exporter": "python",
   "pygments_lexer": "ipython3",
   "version": "3.10.5"
  },
  "orig_nbformat": 4,
  "vscode": {
   "interpreter": {
    "hash": "588c4d5d0abde81a8ebfffdc736a46bcad9c5b92be7be13fb4e3cb13087ce002"
   }
  }
 },
 "nbformat": 4,
 "nbformat_minor": 2
}
