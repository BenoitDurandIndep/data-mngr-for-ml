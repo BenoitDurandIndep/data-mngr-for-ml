{
 "cells": [
  {
   "cell_type": "code",
   "execution_count": 18,
   "metadata": {},
   "outputs": [],
   "source": [
    "from importlib import reload\n",
    "import pandas as pd\n",
    "import numpy as np\n",
    "import time\n",
    "from pathlib import Path\n",
    "import matplotlib.pyplot as plt\n",
    "import yfinance as yf\n",
    "from pprint import pprint\n",
    "import get_data_alphavantage\n",
    "reload(get_data_alphavantage)\n",
    "from get_data_alphavantage import GetDataAlphaVantage"
   ]
  },
  {
   "cell_type": "code",
   "execution_count": null,
   "metadata": {},
   "outputs": [],
   "source": [
    "PATH_DATA = \"../../Data/\""
   ]
  },
  {
   "cell_type": "code",
   "execution_count": null,
   "metadata": {},
   "outputs": [],
   "source": [
    "dax=yf.Ticker(\"^GDAXI\")"
   ]
  },
  {
   "cell_type": "code",
   "execution_count": null,
   "metadata": {},
   "outputs": [],
   "source": [
    "dax_hist=dax.history(period=\"max\",interval=\"1d\")"
   ]
  },
  {
   "cell_type": "code",
   "execution_count": null,
   "metadata": {},
   "outputs": [],
   "source": [
    "dax_hist.to_csv(PATH_DATA+\"dl_yahoo/yf_dax_1d.csv\",sep=\",\")"
   ]
  },
  {
   "cell_type": "code",
   "execution_count": null,
   "metadata": {},
   "outputs": [],
   "source": [
    "dax_hist[\"Close\"].plot()"
   ]
  },
  {
   "cell_type": "code",
   "execution_count": 13,
   "metadata": {},
   "outputs": [
    {
     "name": "stdout",
     "output_type": "stream",
     "text": [
      "                              1. symbol  \\\n",
      "date                                      \n",
      "1970-01-01 00:00:00.000000000       DAX   \n",
      "1970-01-01 00:00:00.000000001     DAXXF   \n",
      "1970-01-01 00:00:00.000000002   DAX.PAR   \n",
      "1970-01-01 00:00:00.000000003  DAXX.LON   \n",
      "1970-01-01 00:00:00.000000004       DXR   \n",
      "\n",
      "                                                                         2. name  \\\n",
      "date                                                                               \n",
      "1970-01-01 00:00:00.000000000                           Global X DAX Germany ETF   \n",
      "1970-01-01 00:00:00.000000001          BlackRock iShares Core DAX UCITS ETF (DE)   \n",
      "1970-01-01 00:00:00.000000002  Multi Units Luxembourg - Lyxor DAX (DR) UCITS ETF   \n",
      "1970-01-01 00:00:00.000000003  MULTI-UNITS LUXEMBOURG - Lyxor DAX (DR) UCITS ...   \n",
      "1970-01-01 00:00:00.000000004                                         Daxor Corp   \n",
      "\n",
      "                              3. type       4. region 5. marketOpen  \\\n",
      "date                                                                  \n",
      "1970-01-01 00:00:00.000000000     ETF   United States         09:30   \n",
      "1970-01-01 00:00:00.000000001     ETF   United States         09:30   \n",
      "1970-01-01 00:00:00.000000002     ETF           Paris         09:00   \n",
      "1970-01-01 00:00:00.000000003     ETF  United Kingdom         08:00   \n",
      "1970-01-01 00:00:00.000000004  Equity   United States         09:30   \n",
      "\n",
      "                              6. marketClose 7. timezone 8. currency  \\\n",
      "date                                                                   \n",
      "1970-01-01 00:00:00.000000000          16:00      UTC-04         USD   \n",
      "1970-01-01 00:00:00.000000001          16:00      UTC-04         USD   \n",
      "1970-01-01 00:00:00.000000002          17:30      UTC+02         EUR   \n",
      "1970-01-01 00:00:00.000000003          16:30      UTC+01         GBX   \n",
      "1970-01-01 00:00:00.000000004          16:00      UTC-04         USD   \n",
      "\n",
      "                              9. matchScore  \n",
      "date                                         \n",
      "1970-01-01 00:00:00.000000000        1.0000  \n",
      "1970-01-01 00:00:00.000000001        0.7500  \n",
      "1970-01-01 00:00:00.000000002        0.6667  \n",
      "1970-01-01 00:00:00.000000003        0.6667  \n",
      "1970-01-01 00:00:00.000000004        0.6667  \n"
     ]
    }
   ],
   "source": [
    "get_data_alpha = GetDataAlphaVantage()\n",
    "symbol=\"DAX\"\n",
    "df_symb, meta = get_data_alpha.search_symbol(keyword=symbol,type=\"FULL\")\n",
    "pprint(df_symb)"
   ]
  },
  {
   "cell_type": "code",
   "execution_count": 20,
   "metadata": {},
   "outputs": [
    {
     "name": "stdout",
     "output_type": "stream",
     "text": [
      "ERROR  requesting for DAX \n",
      "{'1. Information': 'Daily Prices (open, high, low, close) and Volumes',\n",
      " '2. Symbol': 'DAX',\n",
      " '3. Last Refreshed': '2022-08-24',\n",
      " '4. Output Size': 'Compact',\n",
      " '5. Time Zone': 'US/Eastern'}\n"
     ]
    }
   ],
   "source": [
    "get_data_alpha = GetDataAlphaVantage()\n",
    "symbol=\"DAX\"\n",
    "try:\n",
    "    data_dax_m30, meta = get_data_alpha.get_stock(\n",
    "        symbol=symbol, interval=\"1h\")\n",
    "    #pprint(data_tte_1w.head())\n",
    "except ValueError:\n",
    "    print(f\"ERROR  requesting for {symbol} \")\n",
    "pprint(meta)"
   ]
  }
 ],
 "metadata": {
  "kernelspec": {
   "display_name": "Python 3.10.5 ('.env': venv)",
   "language": "python",
   "name": "python3"
  },
  "language_info": {
   "codemirror_mode": {
    "name": "ipython",
    "version": 3
   },
   "file_extension": ".py",
   "mimetype": "text/x-python",
   "name": "python",
   "nbconvert_exporter": "python",
   "pygments_lexer": "ipython3",
   "version": "3.10.5"
  },
  "orig_nbformat": 4,
  "vscode": {
   "interpreter": {
    "hash": "a2896e4ce5f23ddda08fd9b416c5d713c4b6b1cabb7e607259e381c0ed43c6e3"
   }
  }
 },
 "nbformat": 4,
 "nbformat_minor": 2
}
